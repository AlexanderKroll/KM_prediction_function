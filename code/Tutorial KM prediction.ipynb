{
 "cells": [
  {
   "cell_type": "markdown",
   "metadata": {},
   "source": [
    "#### Dependencies:"
   ]
  },
  {
   "cell_type": "code",
   "execution_count": 1,
   "metadata": {},
   "outputs": [],
   "source": [
    "import os\n",
    "import torch #pip install torch\n",
    "import numpy as np #pip install numpy\n",
    "import pandas as pd \n",
    "import pickle\n",
    "import xgboost as xgb #pip install xgboost\n",
    "import tensorflow as tf #pip install tensorflow\n",
    "from tensorflow.keras import layers\n",
    "from rdkit import Chem #conda install -c rdkit rdkit\n",
    "from rdkit.Chem import Crippen \n",
    "from rdkit.Chem import Descriptors\n",
    "import shutil\n",
    "import warnings\n",
    "import esm #pip install fair-esm"
   ]
  },
  {
   "cell_type": "code",
   "execution_count": 2,
   "metadata": {},
   "outputs": [],
   "source": [
    "from KM_prediction import *\n",
    "import os\n",
    "from os.path import join \n",
    "#import torch\n",
    "CURRENT_DIR = os.getcwd()"
   ]
  },
  {
   "cell_type": "markdown",
   "metadata": {},
   "source": [
    "Before using KM prediction for the first time, we have to download the ESM-1b model:"
   ]
  },
  {
   "cell_type": "code",
   "execution_count": 3,
   "metadata": {},
   "outputs": [],
   "source": [
    "import esm\n",
    "model, alphabet = torch.hub.load(\"facebookresearch/esm:main\", \"esm1b_t33_650M_UR50S\")"
   ]
  },
  {
   "cell_type": "markdown",
   "metadata": {},
   "source": [
    "Example for calculating KM prediction. You can enter multiple enyzmes and substrates. Enzyme 1 will be paired with substrate 1, enzyme 2 will be paired with substrate 2 and so on..."
   ]
  },
  {
   "cell_type": "markdown",
   "metadata": {},
   "source": [
    "Enter enzymes as amino acid sequences and substrate either as SMILES strings, KEGG Compound IDs, or InChI strings."
   ]
  },
  {
   "cell_type": "code",
   "execution_count": 4,
   "metadata": {
    "scrolled": true
   },
   "outputs": [
    {
     "name": "stdout",
     "output_type": "stream",
     "text": [
      "Step 1/3: Calculating numerical representations for all metabolites.\n",
      ".....1(a) Calculating input matrices for Graph Neural Network\n",
      ".....1(b) Calculating numerical metabolite representations using a Graph Neural Network\n",
      "Step 2/3: Calculating numerical representations for all enzymes.\n",
      ".....2(a) Loading ESM-1b model.\n",
      ".....2(b) Calculating enzyme representations.\n",
      "Step 3/3: Making predictions for KM.\n"
     ]
    },
    {
     "data": {
      "text/html": [
       "<div>\n",
       "<style scoped>\n",
       "    .dataframe tbody tr th:only-of-type {\n",
       "        vertical-align: middle;\n",
       "    }\n",
       "\n",
       "    .dataframe tbody tr th {\n",
       "        vertical-align: top;\n",
       "    }\n",
       "\n",
       "    .dataframe thead th {\n",
       "        text-align: right;\n",
       "    }\n",
       "</style>\n",
       "<table border=\"1\" class=\"dataframe\">\n",
       "  <thead>\n",
       "    <tr style=\"text-align: right;\">\n",
       "      <th></th>\n",
       "      <th>substrate</th>\n",
       "      <th>enzyme</th>\n",
       "      <th>GNN rep</th>\n",
       "      <th>enzyme rep</th>\n",
       "      <th>complete</th>\n",
       "      <th>KM [mM]</th>\n",
       "    </tr>\n",
       "  </thead>\n",
       "  <tbody>\n",
       "    <tr>\n",
       "      <th>0</th>\n",
       "      <td>InChI=1S/C21H27N7O14P2/c22-17-12-19(25-7-24-17...</td>\n",
       "      <td>MSIPETQKGVIFYESHGKLEYKDIPVPKPKANELLINVKYSGVCHT...</td>\n",
       "      <td>[20.846973, 173.14688, 12.362775, 110.97216, 0...</td>\n",
       "      <td>[-0.07678469, 0.3095484, -0.07239925, -0.07506...</td>\n",
       "      <td>True</td>\n",
       "      <td>0.215783</td>\n",
       "    </tr>\n",
       "  </tbody>\n",
       "</table>\n",
       "</div>"
      ],
      "text/plain": [
       "                                           substrate  \\\n",
       "0  InChI=1S/C21H27N7O14P2/c22-17-12-19(25-7-24-17...   \n",
       "\n",
       "                                              enzyme  \\\n",
       "0  MSIPETQKGVIFYESHGKLEYKDIPVPKPKANELLINVKYSGVCHT...   \n",
       "\n",
       "                                             GNN rep  \\\n",
       "0  [20.846973, 173.14688, 12.362775, 110.97216, 0...   \n",
       "\n",
       "                                          enzyme rep  complete   KM [mM]  \n",
       "0  [-0.07678469, 0.3095484, -0.07239925, -0.07506...      True  0.215783  "
      ]
     },
     "execution_count": 4,
     "metadata": {},
     "output_type": "execute_result"
    }
   ],
   "source": [
    "from KM_prediction import *\n",
    "\n",
    "KM_predicton(substrate_list = [\"InChI=1S/C21H27N7O14P2/c22-17-12-19(25-7-24-17)28(8-26-12)21-16(32)14(30)11(41-21)6-39-44(36,37)42-43(34,35)38-5-10-13(29)15(31)20(40-10)27-3-1-2-9(4-27)18(23)33/h1-4,7-8,10-11,13-16,20-21,29-32H,5-6H2,(H5-,22,23,24,25,33,34,35,36,37)/p-1/t10-,11-,13-,14-,15-,16-,20-,21-/m1/s1\"], \n",
    "             enzyme_list = [\"MSIPETQKGVIFYESHGKLEYKDIPVPKPKANELLINVKYSGVCHTDLHAWHGDWPLPVKLPLVGGHEGAGVVVGMGENVKWKIGDYAGIKWLNGSCMACEYCELGNESNCPHADLSGYTHDGSFQQYATADAVQAAHIPQGTDLAQVAPILCAGITVYKALKSANLMAGHWVAISGAAGGLGSLAVQYAKAMGYRVLGIDGGEGKEELFRSIGGEVFIDFTKEKDIVGAVLKATDGGAHGVINVSVSEAAIEASTRYVRANGTTVLVGMPAGAKCCSDVFNQVVKSISIVGSYVGNRADTREALDFFARGLVKSPIKVVGLSTLPEIYEKMEKGQIVGRYVVDTSK\"])\n",
    "\n"
   ]
  }
 ],
 "metadata": {
  "kernelspec": {
   "display_name": "Python 3",
   "language": "python",
   "name": "python3"
  },
  "language_info": {
   "codemirror_mode": {
    "name": "ipython",
    "version": 3
   },
   "file_extension": ".py",
   "mimetype": "text/x-python",
   "name": "python",
   "nbconvert_exporter": "python",
   "pygments_lexer": "ipython3",
   "version": "3.7.0"
  }
 },
 "nbformat": 4,
 "nbformat_minor": 4
}
