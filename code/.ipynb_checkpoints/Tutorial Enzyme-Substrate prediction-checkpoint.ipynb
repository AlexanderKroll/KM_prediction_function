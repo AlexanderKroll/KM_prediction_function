{
 "cells": [
  {
   "cell_type": "markdown",
   "metadata": {},
   "source": [
    "#### Dependencies:"
   ]
  },
  {
   "cell_type": "code",
   "execution_count": null,
   "metadata": {},
   "outputs": [],
   "source": [
    "import os\n",
    "import torch #pip install torch\n",
    "import numpy as np #pip install numpy\n",
    "import pandas as pd \n",
    "import pickle\n",
    "import xgboost as xgb #pip install xgboost\n",
    "import tensorflow as tf #pip install tensorflow\n",
    "from tensorflow.keras import layers\n",
    "from rdkit import Chem #conda install -c rdkit rdkit\n",
    "from rdkit.Chem import Crippen \n",
    "from rdkit.Chem import Descriptors\n",
    "import shutil\n",
    "import warnings\n",
    "import esm #pip install fair-esm"
   ]
  },
  {
   "cell_type": "code",
   "execution_count": null,
   "metadata": {},
   "outputs": [],
   "source": [
    "df_input = pd.read_csv(os.path.join(\"C:\\\\Users\\\\alexk\\\\ccb_webserver\\\\src\\\\media\\\\files\", \"2h5b\"), sep = \";\")"
   ]
  },
  {
   "cell_type": "code",
   "execution_count": null,
   "metadata": {},
   "outputs": [],
   "source": [
    "df_input.columns"
   ]
  },
  {
   "cell_type": "code",
   "execution_count": null,
   "metadata": {},
   "outputs": [],
   "source": [
    "from ES_prediction import *\n",
    "import os\n",
    "from os.path import join \n",
    "#import torch\n",
    "CURRENT_DIR = os.getcwd()\n"
   ]
  },
  {
   "cell_type": "code",
   "execution_count": null,
   "metadata": {},
   "outputs": [],
   "source": [
    "enzyme_list = [\"MGPPPAARRREGEPDNQDPAGLLTDKYELTMLAAALRDGSANRPTTFEVFARRLPTGRRYGVVAGTGRLLEALPQFRFDADACELLAQFLDPATVRYLREFRFRGDIDGYAEGELYFPGSPVLSVRGSFAECVLLETLVLSIFNHDTAIASAAARMVSAAGGRPLIEMGSRRTHERAAVAAARAAYIAGFAASSNLAAQRRYGVPAHGTAAHAFTMLHAQHGGPTELAERAAFRAQVEALGPGTTLLVDTYDVTTGVANAVAAAGAELGAIRIDSGELGVLARQAREQLDRLGATRTRIVVSGDLDEFSIAALRGEPVDSYGVGTSLVTGSGAPTANMVYKLVEVDGVPVQKRSSYKESPGGRKEALRRSRATGTITEELVHPAGRPPVIVEPHRVLTLPLVRAGQPVADTSLAAARQLVASGLRSLPGDGLKLAPGEPAIPTRTIPA\",\n",
    "                            \"MKTVRQERLKSIVRILERSKEPVSGAQLAEELSVSRQVIVQDIAYLRSLGYNIVATPRGYVLAGG\",\n",
    "                            \"MKTVRQERLKSIVRILERSKEPVSGAQLAEELSVSRQVIVQDI\",\n",
    "                            \"MKTVRQERLKSIVRILERSKEPVSGAQLAEELSVSRQVIVQDI\"*2000,\n",
    "                            \"MKTVRQERLKSIVRILERSKEPVSGAQLAEELSVSRQVIVQDI\",\n",
    "                            \"MKTVRQERLKSIVRILERSKEPVSGAQLAEELSVSRQVIVQDI\",\n",
    "                            \"MKTVRQERLKSIVRILERSKEPVSGAQLAEELSVSRQVIVQDI\",\n",
    "                            \"MKTVRQERLKSIVRILERSKEPVSGAQLAEELSVSRQVIVQDI\",\n",
    "                            \"MKTVRQERLKSIVRILERSKEPVSGAQLAEELSVSRQVIVQDI\"]"
   ]
  },
  {
   "cell_type": "code",
   "execution_count": null,
   "metadata": {
    "scrolled": false
   },
   "outputs": [],
   "source": [
    "ES_predicton(substrate_list = [\"InChI=1S/C11H14NO9P/c13-8-7(5-20-22(17,18)19)21-10(9(8)14)12-3-1-2-6(4-12)11(15)16/h1-4,7-10,13-14H,5H2,(H2-,15,16,17,18,19)/p-2/t7-,8-,9-,10-/m1/s1\", \n",
    "                               \"C00053\",\n",
    "                               \"C00047\",\n",
    "                               \"C00001\",\n",
    "                               \"D11111\",\n",
    "                               \"D55555\",\n",
    "                               \"Clc(c(Cl)c(Cl)c1C(=O)O)c(Cl)c1Cl\",\n",
    "                              \"InChI=1S/C2H6O/c1-2-3/h3H,2H2,1H3\",\n",
    "                               \"bullshit\"], \n",
    "             enzyme_list = [\"MGPPPAARRREGEPDNQDPAGLLTDKYELTMLAAALRDGSANRPTTFEVFARRLPTGRRYGVVAGTGRLLEALPQFRFDADACELLAQFLDPATVRYLREFRFRGDIDGYAEGELYFPGSPVLSVRGSFAECVLLETLVLSIFNHDTAIASAAARMVSAAGGRPLIEMGSRRTHERAAVAAARAAYIAGFAASSNLAAQRRYGVPAHGTAAHAFTMLHAQHGGPTELAERAAFRAQVEALGPGTTLLVDTYDVTTGVANAVAAAGAELGAIRIDSGELGVLARQAREQLDRLGATRTRIVVSGDLDEFSIAALRGEPVDSYGVGTSLVTGSGAPTANMVYKLVEVDGVPVQKRSSYKESPGGRKEALRRSRATGTITEELVHPAGRPPVIVEPHRVLTLPLVRAGQPVADTSLAAARQLVASGLRSLPGDGLKLAPGEPAIPTRTIPA\",\n",
    "                            \"MKTVRQERLKSIVRILERSKEPVSGAQLAEELSVSRQVIVQDIAYLRSLGYNIVATPRGYVLAGG\",\n",
    "                            \"MKTVRQERLKSIVRILERSKEPVSGAQLAEELSVSRQVIVQDI\",\n",
    "                            \"MKTVRQERLKSIVRILERSKEPVSGAQLAEELSVSRQVIVQDI\"*2000,\n",
    "                            \"MKTVRQERLKSIVRILERSKEPVSGAQLAEELSVSRQVIVQDI\",\n",
    "                            \"MKTVRQERLKSIVRILERSKEPVSGAQLAEELSVSRQVIVQDI\",\n",
    "                            \"MKTVRQERLKSIVRILERSKEPVSGAQLAEELSVSRQVIVQDI\",\n",
    "                            \"MKTVRQERLKSIVRILERSKEPVSGAQLAEELSVSRQVIVQDI\",\n",
    "                            \"MKTVRQERLKSIVRILERSKEPVSGAQLAEELSVSRQVIVQDI\"])\n",
    "\n"
   ]
  },
  {
   "cell_type": "code",
   "execution_count": 33,
   "metadata": {},
   "outputs": [
    {
     "name": "stdout",
     "output_type": "stream",
     "text": [
      ".....2(a) Loading ESM-1b model.\n"
     ]
    },
    {
     "name": "stderr",
     "output_type": "stream",
     "text": [
      "ERROR:root:Internal Python error in the inspect module.\n",
      "Below is the traceback from this internal error.\n",
      "\n"
     ]
    },
    {
     "name": "stdout",
     "output_type": "stream",
     "text": [
      "Traceback (most recent call last):\n",
      "  File \"c:\\users\\alexk\\anaconda3\\envs\\predicting_km\\lib\\site-packages\\IPython\\core\\interactiveshell.py\", line 3418, in run_code\n",
      "    exec(code_obj, self.user_global_ns, self.user_ns)\n",
      "  File \"<ipython-input-33-68d78567b24b>\", line 8, in <module>\n",
      "    \"MKTVRQERLKSIVRILERSKEPVSGAQLAEELSVSRQVIVQDI\"])\n",
      "  File \"C:\\Users\\alexk\\projects\\PredictionSoftware\\code\\enzyme_representations.py\", line 43, in calcualte_esm1b_ts_vectors\n",
      "    model, alphabet = esm.pretrained.esm1b_t33_650M_UR50S()\n",
      "  File \"c:\\users\\alexk\\anaconda3\\envs\\predicting_km\\lib\\site-packages\\esm\\pretrained.py\", line 159, in esm1b_t33_650M_UR50S\n",
      "    return load_model_and_alphabet_hub(\"esm1b_t33_650M_UR50S\")\n",
      "  File \"c:\\users\\alexk\\anaconda3\\envs\\predicting_km\\lib\\site-packages\\esm\\pretrained.py\", line 41, in load_model_and_alphabet_hub\n",
      "    return load_model_and_alphabet_core(model_data, regression_data)\n",
      "  File \"c:\\users\\alexk\\anaconda3\\envs\\predicting_km\\lib\\site-packages\\esm\\pretrained.py\", line 114, in load_model_and_alphabet_core\n",
      "    model.load_state_dict(model_state, strict=regression_data is not None)\n",
      "  File \"c:\\users\\alexk\\anaconda3\\envs\\predicting_km\\lib\\site-packages\\torch\\nn\\modules\\module.py\", line 1037, in load_state_dict\n",
      "    load(self)\n",
      "  File \"c:\\users\\alexk\\anaconda3\\envs\\predicting_km\\lib\\site-packages\\torch\\nn\\modules\\module.py\", line 1035, in load\n",
      "    load(child, prefix + name + '.')\n",
      "  File \"c:\\users\\alexk\\anaconda3\\envs\\predicting_km\\lib\\site-packages\\torch\\nn\\modules\\module.py\", line 1035, in load\n",
      "    load(child, prefix + name + '.')\n",
      "  File \"c:\\users\\alexk\\anaconda3\\envs\\predicting_km\\lib\\site-packages\\torch\\nn\\modules\\module.py\", line 1035, in load\n",
      "    load(child, prefix + name + '.')\n",
      "  File \"c:\\users\\alexk\\anaconda3\\envs\\predicting_km\\lib\\site-packages\\torch\\nn\\modules\\module.py\", line 1032, in load\n",
      "    state_dict, prefix, local_metadata, True, missing_keys, unexpected_keys, error_msgs)\n",
      "  File \"c:\\users\\alexk\\anaconda3\\envs\\predicting_km\\lib\\site-packages\\torch\\nn\\modules\\module.py\", line 982, in _load_from_state_dict\n",
      "    param.copy_(input_param)\n",
      "KeyboardInterrupt\n",
      "\n",
      "During handling of the above exception, another exception occurred:\n",
      "\n",
      "Traceback (most recent call last):\n",
      "  File \"c:\\users\\alexk\\anaconda3\\envs\\predicting_km\\lib\\site-packages\\IPython\\core\\interactiveshell.py\", line 2045, in showtraceback\n",
      "    stb = value._render_traceback_()\n",
      "AttributeError: 'KeyboardInterrupt' object has no attribute '_render_traceback_'\n",
      "\n",
      "During handling of the above exception, another exception occurred:\n",
      "\n",
      "Traceback (most recent call last):\n",
      "  File \"c:\\users\\alexk\\anaconda3\\envs\\predicting_km\\lib\\site-packages\\IPython\\core\\ultratb.py\", line 1170, in get_records\n",
      "    return _fixed_getinnerframes(etb, number_of_lines_of_context, tb_offset)\n",
      "  File \"c:\\users\\alexk\\anaconda3\\envs\\predicting_km\\lib\\site-packages\\IPython\\core\\ultratb.py\", line 316, in wrapped\n",
      "    return f(*args, **kwargs)\n",
      "  File \"c:\\users\\alexk\\anaconda3\\envs\\predicting_km\\lib\\site-packages\\IPython\\core\\ultratb.py\", line 350, in _fixed_getinnerframes\n",
      "    records = fix_frame_records_filenames(inspect.getinnerframes(etb, context))\n",
      "  File \"c:\\users\\alexk\\anaconda3\\envs\\predicting_km\\lib\\inspect.py\", line 1495, in getinnerframes\n",
      "    frameinfo = (tb.tb_frame,) + getframeinfo(tb, context)\n",
      "  File \"c:\\users\\alexk\\anaconda3\\envs\\predicting_km\\lib\\inspect.py\", line 1453, in getframeinfo\n",
      "    filename = getsourcefile(frame) or getfile(frame)\n",
      "  File \"c:\\users\\alexk\\anaconda3\\envs\\predicting_km\\lib\\inspect.py\", line 693, in getsourcefile\n",
      "    if os.path.exists(filename):\n",
      "  File \"c:\\users\\alexk\\anaconda3\\envs\\predicting_km\\lib\\genericpath.py\", line 19, in exists\n",
      "    os.stat(path)\n",
      "KeyboardInterrupt\n"
     ]
    },
    {
     "ename": "TypeError",
     "evalue": "object of type 'NoneType' has no len()",
     "output_type": "error",
     "traceback": [
      "\u001b[1;31m---------------------------------------------------------------------------\u001b[0m",
      "\u001b[1;31mKeyboardInterrupt\u001b[0m                         Traceback (most recent call last)",
      "    \u001b[1;31m[... skipping hidden 1 frame]\u001b[0m\n",
      "\u001b[1;32m<ipython-input-33-68d78567b24b>\u001b[0m in \u001b[0;36m<module>\u001b[1;34m\u001b[0m\n\u001b[0;32m      7\u001b[0m                             \u001b[1;34m\"MKTVRQERLKSIVRILERSKEPVSGAQLAEELSVSRQVIVQDI\"\u001b[0m\u001b[1;33m,\u001b[0m\u001b[1;33m\u001b[0m\u001b[0m\n\u001b[1;32m----> 8\u001b[1;33m                             \"MKTVRQERLKSIVRILERSKEPVSGAQLAEELSVSRQVIVQDI\"])\n\u001b[0m",
      "\u001b[1;32m~\\projects\\PredictionSoftware\\code\\enzyme_representations.py\u001b[0m in \u001b[0;36mcalcualte_esm1b_ts_vectors\u001b[1;34m(enzyme_list)\u001b[0m\n\u001b[0;32m     42\u001b[0m         \u001b[0mprint\u001b[0m\u001b[1;33m(\u001b[0m\u001b[1;34m\".....2(a) Loading ESM-1b model.\"\u001b[0m\u001b[1;33m)\u001b[0m\u001b[1;33m\u001b[0m\u001b[0m\n\u001b[1;32m---> 43\u001b[1;33m         \u001b[0mmodel\u001b[0m\u001b[1;33m,\u001b[0m \u001b[0malphabet\u001b[0m \u001b[1;33m=\u001b[0m \u001b[0mesm\u001b[0m\u001b[1;33m.\u001b[0m\u001b[0mpretrained\u001b[0m\u001b[1;33m.\u001b[0m\u001b[0mesm1b_t33_650M_UR50S\u001b[0m\u001b[1;33m(\u001b[0m\u001b[1;33m)\u001b[0m\u001b[1;33m\u001b[0m\u001b[0m\n\u001b[0m\u001b[0;32m     44\u001b[0m         \u001b[0mbatch_converter\u001b[0m \u001b[1;33m=\u001b[0m \u001b[0malphabet\u001b[0m\u001b[1;33m.\u001b[0m\u001b[0mget_batch_converter\u001b[0m\u001b[1;33m(\u001b[0m\u001b[1;33m)\u001b[0m\u001b[1;33m\u001b[0m\u001b[0m\n",
      "\u001b[1;32mc:\\users\\alexk\\anaconda3\\envs\\predicting_km\\lib\\site-packages\\esm\\pretrained.py\u001b[0m in \u001b[0;36mesm1b_t33_650M_UR50S\u001b[1;34m()\u001b[0m\n\u001b[0;32m    158\u001b[0m     \"\"\"\n\u001b[1;32m--> 159\u001b[1;33m     \u001b[1;32mreturn\u001b[0m \u001b[0mload_model_and_alphabet_hub\u001b[0m\u001b[1;33m(\u001b[0m\u001b[1;34m\"esm1b_t33_650M_UR50S\"\u001b[0m\u001b[1;33m)\u001b[0m\u001b[1;33m\u001b[0m\u001b[0m\n\u001b[0m\u001b[0;32m    160\u001b[0m \u001b[1;33m\u001b[0m\u001b[0m\n",
      "\u001b[1;32mc:\\users\\alexk\\anaconda3\\envs\\predicting_km\\lib\\site-packages\\esm\\pretrained.py\u001b[0m in \u001b[0;36mload_model_and_alphabet_hub\u001b[1;34m(model_name)\u001b[0m\n\u001b[0;32m     40\u001b[0m     \u001b[0mregression_data\u001b[0m \u001b[1;33m=\u001b[0m \u001b[0mload_regression_hub\u001b[0m\u001b[1;33m(\u001b[0m\u001b[0mmodel_name\u001b[0m\u001b[1;33m)\u001b[0m\u001b[1;33m\u001b[0m\u001b[0m\n\u001b[1;32m---> 41\u001b[1;33m     \u001b[1;32mreturn\u001b[0m \u001b[0mload_model_and_alphabet_core\u001b[0m\u001b[1;33m(\u001b[0m\u001b[0mmodel_data\u001b[0m\u001b[1;33m,\u001b[0m \u001b[0mregression_data\u001b[0m\u001b[1;33m)\u001b[0m\u001b[1;33m\u001b[0m\u001b[0m\n\u001b[0m\u001b[0;32m     42\u001b[0m \u001b[1;33m\u001b[0m\u001b[0m\n",
      "\u001b[1;32mc:\\users\\alexk\\anaconda3\\envs\\predicting_km\\lib\\site-packages\\esm\\pretrained.py\u001b[0m in \u001b[0;36mload_model_and_alphabet_core\u001b[1;34m(model_data, regression_data)\u001b[0m\n\u001b[0;32m    113\u001b[0m \u001b[1;33m\u001b[0m\u001b[0m\n\u001b[1;32m--> 114\u001b[1;33m     \u001b[0mmodel\u001b[0m\u001b[1;33m.\u001b[0m\u001b[0mload_state_dict\u001b[0m\u001b[1;33m(\u001b[0m\u001b[0mmodel_state\u001b[0m\u001b[1;33m,\u001b[0m \u001b[0mstrict\u001b[0m\u001b[1;33m=\u001b[0m\u001b[0mregression_data\u001b[0m \u001b[1;32mis\u001b[0m \u001b[1;32mnot\u001b[0m \u001b[1;32mNone\u001b[0m\u001b[1;33m)\u001b[0m\u001b[1;33m\u001b[0m\u001b[0m\n\u001b[0m\u001b[0;32m    115\u001b[0m \u001b[1;33m\u001b[0m\u001b[0m\n",
      "\u001b[1;32mc:\\users\\alexk\\anaconda3\\envs\\predicting_km\\lib\\site-packages\\torch\\nn\\modules\\module.py\u001b[0m in \u001b[0;36mload_state_dict\u001b[1;34m(self, state_dict, strict)\u001b[0m\n\u001b[0;32m   1036\u001b[0m \u001b[1;33m\u001b[0m\u001b[0m\n\u001b[1;32m-> 1037\u001b[1;33m         \u001b[0mload\u001b[0m\u001b[1;33m(\u001b[0m\u001b[0mself\u001b[0m\u001b[1;33m)\u001b[0m\u001b[1;33m\u001b[0m\u001b[0m\n\u001b[0m\u001b[0;32m   1038\u001b[0m         \u001b[0mload\u001b[0m \u001b[1;33m=\u001b[0m \u001b[1;32mNone\u001b[0m  \u001b[1;31m# break load->load reference cycle\u001b[0m\u001b[1;33m\u001b[0m\u001b[0m\n",
      "\u001b[1;32mc:\\users\\alexk\\anaconda3\\envs\\predicting_km\\lib\\site-packages\\torch\\nn\\modules\\module.py\u001b[0m in \u001b[0;36mload\u001b[1;34m(module, prefix)\u001b[0m\n\u001b[0;32m   1034\u001b[0m                 \u001b[1;32mif\u001b[0m \u001b[0mchild\u001b[0m \u001b[1;32mis\u001b[0m \u001b[1;32mnot\u001b[0m \u001b[1;32mNone\u001b[0m\u001b[1;33m:\u001b[0m\u001b[1;33m\u001b[0m\u001b[0m\n\u001b[1;32m-> 1035\u001b[1;33m                     \u001b[0mload\u001b[0m\u001b[1;33m(\u001b[0m\u001b[0mchild\u001b[0m\u001b[1;33m,\u001b[0m \u001b[0mprefix\u001b[0m \u001b[1;33m+\u001b[0m \u001b[0mname\u001b[0m \u001b[1;33m+\u001b[0m \u001b[1;34m'.'\u001b[0m\u001b[1;33m)\u001b[0m\u001b[1;33m\u001b[0m\u001b[0m\n\u001b[0m\u001b[0;32m   1036\u001b[0m \u001b[1;33m\u001b[0m\u001b[0m\n",
      "\u001b[1;32mc:\\users\\alexk\\anaconda3\\envs\\predicting_km\\lib\\site-packages\\torch\\nn\\modules\\module.py\u001b[0m in \u001b[0;36mload\u001b[1;34m(module, prefix)\u001b[0m\n\u001b[0;32m   1034\u001b[0m                 \u001b[1;32mif\u001b[0m \u001b[0mchild\u001b[0m \u001b[1;32mis\u001b[0m \u001b[1;32mnot\u001b[0m \u001b[1;32mNone\u001b[0m\u001b[1;33m:\u001b[0m\u001b[1;33m\u001b[0m\u001b[0m\n\u001b[1;32m-> 1035\u001b[1;33m                     \u001b[0mload\u001b[0m\u001b[1;33m(\u001b[0m\u001b[0mchild\u001b[0m\u001b[1;33m,\u001b[0m \u001b[0mprefix\u001b[0m \u001b[1;33m+\u001b[0m \u001b[0mname\u001b[0m \u001b[1;33m+\u001b[0m \u001b[1;34m'.'\u001b[0m\u001b[1;33m)\u001b[0m\u001b[1;33m\u001b[0m\u001b[0m\n\u001b[0m\u001b[0;32m   1036\u001b[0m \u001b[1;33m\u001b[0m\u001b[0m\n",
      "\u001b[1;32mc:\\users\\alexk\\anaconda3\\envs\\predicting_km\\lib\\site-packages\\torch\\nn\\modules\\module.py\u001b[0m in \u001b[0;36mload\u001b[1;34m(module, prefix)\u001b[0m\n\u001b[0;32m   1034\u001b[0m                 \u001b[1;32mif\u001b[0m \u001b[0mchild\u001b[0m \u001b[1;32mis\u001b[0m \u001b[1;32mnot\u001b[0m \u001b[1;32mNone\u001b[0m\u001b[1;33m:\u001b[0m\u001b[1;33m\u001b[0m\u001b[0m\n\u001b[1;32m-> 1035\u001b[1;33m                     \u001b[0mload\u001b[0m\u001b[1;33m(\u001b[0m\u001b[0mchild\u001b[0m\u001b[1;33m,\u001b[0m \u001b[0mprefix\u001b[0m \u001b[1;33m+\u001b[0m \u001b[0mname\u001b[0m \u001b[1;33m+\u001b[0m \u001b[1;34m'.'\u001b[0m\u001b[1;33m)\u001b[0m\u001b[1;33m\u001b[0m\u001b[0m\n\u001b[0m\u001b[0;32m   1036\u001b[0m \u001b[1;33m\u001b[0m\u001b[0m\n",
      "\u001b[1;32mc:\\users\\alexk\\anaconda3\\envs\\predicting_km\\lib\\site-packages\\torch\\nn\\modules\\module.py\u001b[0m in \u001b[0;36mload\u001b[1;34m(module, prefix)\u001b[0m\n\u001b[0;32m   1034\u001b[0m                 \u001b[1;32mif\u001b[0m \u001b[0mchild\u001b[0m \u001b[1;32mis\u001b[0m \u001b[1;32mnot\u001b[0m \u001b[1;32mNone\u001b[0m\u001b[1;33m:\u001b[0m\u001b[1;33m\u001b[0m\u001b[0m\n\u001b[1;32m-> 1035\u001b[1;33m                     \u001b[0mload\u001b[0m\u001b[1;33m(\u001b[0m\u001b[0mchild\u001b[0m\u001b[1;33m,\u001b[0m \u001b[0mprefix\u001b[0m \u001b[1;33m+\u001b[0m \u001b[0mname\u001b[0m \u001b[1;33m+\u001b[0m \u001b[1;34m'.'\u001b[0m\u001b[1;33m)\u001b[0m\u001b[1;33m\u001b[0m\u001b[0m\n\u001b[0m\u001b[0;32m   1036\u001b[0m \u001b[1;33m\u001b[0m\u001b[0m\n",
      "\u001b[1;32mc:\\users\\alexk\\anaconda3\\envs\\predicting_km\\lib\\site-packages\\torch\\nn\\modules\\module.py\u001b[0m in \u001b[0;36mload\u001b[1;34m(module, prefix)\u001b[0m\n\u001b[0;32m   1031\u001b[0m             module._load_from_state_dict(\n\u001b[1;32m-> 1032\u001b[1;33m                 state_dict, prefix, local_metadata, True, missing_keys, unexpected_keys, error_msgs)\n\u001b[0m\u001b[0;32m   1033\u001b[0m             \u001b[1;32mfor\u001b[0m \u001b[0mname\u001b[0m\u001b[1;33m,\u001b[0m \u001b[0mchild\u001b[0m \u001b[1;32min\u001b[0m \u001b[0mmodule\u001b[0m\u001b[1;33m.\u001b[0m\u001b[0m_modules\u001b[0m\u001b[1;33m.\u001b[0m\u001b[0mitems\u001b[0m\u001b[1;33m(\u001b[0m\u001b[1;33m)\u001b[0m\u001b[1;33m:\u001b[0m\u001b[1;33m\u001b[0m\u001b[0m\n",
      "\u001b[1;32mc:\\users\\alexk\\anaconda3\\envs\\predicting_km\\lib\\site-packages\\torch\\nn\\modules\\module.py\u001b[0m in \u001b[0;36m_load_from_state_dict\u001b[1;34m(self, state_dict, prefix, local_metadata, strict, missing_keys, unexpected_keys, error_msgs)\u001b[0m\n\u001b[0;32m    981\u001b[0m                     \u001b[1;32mwith\u001b[0m \u001b[0mtorch\u001b[0m\u001b[1;33m.\u001b[0m\u001b[0mno_grad\u001b[0m\u001b[1;33m(\u001b[0m\u001b[1;33m)\u001b[0m\u001b[1;33m:\u001b[0m\u001b[1;33m\u001b[0m\u001b[0m\n\u001b[1;32m--> 982\u001b[1;33m                         \u001b[0mparam\u001b[0m\u001b[1;33m.\u001b[0m\u001b[0mcopy_\u001b[0m\u001b[1;33m(\u001b[0m\u001b[0minput_param\u001b[0m\u001b[1;33m)\u001b[0m\u001b[1;33m\u001b[0m\u001b[0m\n\u001b[0m\u001b[0;32m    983\u001b[0m                 \u001b[1;32mexcept\u001b[0m \u001b[0mException\u001b[0m \u001b[1;32mas\u001b[0m \u001b[0mex\u001b[0m\u001b[1;33m:\u001b[0m\u001b[1;33m\u001b[0m\u001b[0m\n",
      "\u001b[1;31mKeyboardInterrupt\u001b[0m: ",
      "\nDuring handling of the above exception, another exception occurred:\n",
      "\u001b[1;31mAttributeError\u001b[0m                            Traceback (most recent call last)",
      "\u001b[1;32mc:\\users\\alexk\\anaconda3\\envs\\predicting_km\\lib\\site-packages\\IPython\\core\\interactiveshell.py\u001b[0m in \u001b[0;36mshowtraceback\u001b[1;34m(self, exc_tuple, filename, tb_offset, exception_only, running_compiled_code)\u001b[0m\n\u001b[0;32m   2044\u001b[0m                         \u001b[1;31m# in the engines. This should return a list of strings.\u001b[0m\u001b[1;33m\u001b[0m\u001b[1;33m\u001b[0m\u001b[0m\n\u001b[1;32m-> 2045\u001b[1;33m                         \u001b[0mstb\u001b[0m \u001b[1;33m=\u001b[0m \u001b[0mvalue\u001b[0m\u001b[1;33m.\u001b[0m\u001b[0m_render_traceback_\u001b[0m\u001b[1;33m(\u001b[0m\u001b[1;33m)\u001b[0m\u001b[1;33m\u001b[0m\u001b[0m\n\u001b[0m\u001b[0;32m   2046\u001b[0m                     \u001b[1;32mexcept\u001b[0m \u001b[0mException\u001b[0m\u001b[1;33m:\u001b[0m\u001b[1;33m\u001b[0m\u001b[0m\n",
      "\u001b[1;31mAttributeError\u001b[0m: 'KeyboardInterrupt' object has no attribute '_render_traceback_'",
      "\nDuring handling of the above exception, another exception occurred:\n",
      "\u001b[1;31mTypeError\u001b[0m                                 Traceback (most recent call last)",
      "    \u001b[1;31m[... skipping hidden 1 frame]\u001b[0m\n",
      "\u001b[1;32mc:\\users\\alexk\\anaconda3\\envs\\predicting_km\\lib\\site-packages\\IPython\\core\\interactiveshell.py\u001b[0m in \u001b[0;36mshowtraceback\u001b[1;34m(self, exc_tuple, filename, tb_offset, exception_only, running_compiled_code)\u001b[0m\n\u001b[0;32m   2046\u001b[0m                     \u001b[1;32mexcept\u001b[0m \u001b[0mException\u001b[0m\u001b[1;33m:\u001b[0m\u001b[1;33m\u001b[0m\u001b[0m\n\u001b[0;32m   2047\u001b[0m                         stb = self.InteractiveTB.structured_traceback(etype,\n\u001b[1;32m-> 2048\u001b[1;33m                                             value, tb, tb_offset=tb_offset)\n\u001b[0m\u001b[0;32m   2049\u001b[0m \u001b[1;33m\u001b[0m\u001b[0m\n\u001b[0;32m   2050\u001b[0m                     \u001b[0mself\u001b[0m\u001b[1;33m.\u001b[0m\u001b[0m_showtraceback\u001b[0m\u001b[1;33m(\u001b[0m\u001b[0metype\u001b[0m\u001b[1;33m,\u001b[0m \u001b[0mvalue\u001b[0m\u001b[1;33m,\u001b[0m \u001b[0mstb\u001b[0m\u001b[1;33m)\u001b[0m\u001b[1;33m\u001b[0m\u001b[0m\n",
      "\u001b[1;32mc:\\users\\alexk\\anaconda3\\envs\\predicting_km\\lib\\site-packages\\IPython\\core\\ultratb.py\u001b[0m in \u001b[0;36mstructured_traceback\u001b[1;34m(self, etype, value, tb, tb_offset, number_of_lines_of_context)\u001b[0m\n\u001b[0;32m   1435\u001b[0m             \u001b[0mself\u001b[0m\u001b[1;33m.\u001b[0m\u001b[0mtb\u001b[0m \u001b[1;33m=\u001b[0m \u001b[0mtb\u001b[0m\u001b[1;33m\u001b[0m\u001b[0m\n\u001b[0;32m   1436\u001b[0m         return FormattedTB.structured_traceback(\n\u001b[1;32m-> 1437\u001b[1;33m             self, etype, value, tb, tb_offset, number_of_lines_of_context)\n\u001b[0m\u001b[0;32m   1438\u001b[0m \u001b[1;33m\u001b[0m\u001b[0m\n\u001b[0;32m   1439\u001b[0m \u001b[1;33m\u001b[0m\u001b[0m\n",
      "\u001b[1;32mc:\\users\\alexk\\anaconda3\\envs\\predicting_km\\lib\\site-packages\\IPython\\core\\ultratb.py\u001b[0m in \u001b[0;36mstructured_traceback\u001b[1;34m(self, etype, value, tb, tb_offset, number_of_lines_of_context)\u001b[0m\n\u001b[0;32m   1335\u001b[0m             \u001b[1;31m# Verbose modes need a full traceback\u001b[0m\u001b[1;33m\u001b[0m\u001b[1;33m\u001b[0m\u001b[0m\n\u001b[0;32m   1336\u001b[0m             return VerboseTB.structured_traceback(\n\u001b[1;32m-> 1337\u001b[1;33m                 \u001b[0mself\u001b[0m\u001b[1;33m,\u001b[0m \u001b[0metype\u001b[0m\u001b[1;33m,\u001b[0m \u001b[0mvalue\u001b[0m\u001b[1;33m,\u001b[0m \u001b[0mtb\u001b[0m\u001b[1;33m,\u001b[0m \u001b[0mtb_offset\u001b[0m\u001b[1;33m,\u001b[0m \u001b[0mnumber_of_lines_of_context\u001b[0m\u001b[1;33m\u001b[0m\u001b[0m\n\u001b[0m\u001b[0;32m   1338\u001b[0m             )\n\u001b[0;32m   1339\u001b[0m         \u001b[1;32melif\u001b[0m \u001b[0mmode\u001b[0m \u001b[1;33m==\u001b[0m \u001b[1;34m'Minimal'\u001b[0m\u001b[1;33m:\u001b[0m\u001b[1;33m\u001b[0m\u001b[0m\n",
      "\u001b[1;32mc:\\users\\alexk\\anaconda3\\envs\\predicting_km\\lib\\site-packages\\IPython\\core\\ultratb.py\u001b[0m in \u001b[0;36mstructured_traceback\u001b[1;34m(self, etype, evalue, etb, tb_offset, number_of_lines_of_context)\u001b[0m\n\u001b[0;32m   1192\u001b[0m \u001b[1;33m\u001b[0m\u001b[0m\n\u001b[0;32m   1193\u001b[0m         formatted_exception = self.format_exception_as_a_whole(etype, evalue, etb, number_of_lines_of_context,\n\u001b[1;32m-> 1194\u001b[1;33m                                                                tb_offset)\n\u001b[0m\u001b[0;32m   1195\u001b[0m \u001b[1;33m\u001b[0m\u001b[0m\n\u001b[0;32m   1196\u001b[0m         \u001b[0mcolors\u001b[0m \u001b[1;33m=\u001b[0m \u001b[0mself\u001b[0m\u001b[1;33m.\u001b[0m\u001b[0mColors\u001b[0m  \u001b[1;31m# just a shorthand + quicker name lookup\u001b[0m\u001b[1;33m\u001b[0m\u001b[0m\n",
      "\u001b[1;32mc:\\users\\alexk\\anaconda3\\envs\\predicting_km\\lib\\site-packages\\IPython\\core\\ultratb.py\u001b[0m in \u001b[0;36mformat_exception_as_a_whole\u001b[1;34m(self, etype, evalue, etb, number_of_lines_of_context, tb_offset)\u001b[0m\n\u001b[0;32m   1149\u001b[0m \u001b[1;33m\u001b[0m\u001b[0m\n\u001b[0;32m   1150\u001b[0m \u001b[1;33m\u001b[0m\u001b[0m\n\u001b[1;32m-> 1151\u001b[1;33m         \u001b[0mlast_unique\u001b[0m\u001b[1;33m,\u001b[0m \u001b[0mrecursion_repeat\u001b[0m \u001b[1;33m=\u001b[0m \u001b[0mfind_recursion\u001b[0m\u001b[1;33m(\u001b[0m\u001b[0morig_etype\u001b[0m\u001b[1;33m,\u001b[0m \u001b[0mevalue\u001b[0m\u001b[1;33m,\u001b[0m \u001b[0mrecords\u001b[0m\u001b[1;33m)\u001b[0m\u001b[1;33m\u001b[0m\u001b[0m\n\u001b[0m\u001b[0;32m   1152\u001b[0m \u001b[1;33m\u001b[0m\u001b[0m\n\u001b[0;32m   1153\u001b[0m         \u001b[0mframes\u001b[0m \u001b[1;33m=\u001b[0m \u001b[0mself\u001b[0m\u001b[1;33m.\u001b[0m\u001b[0mformat_records\u001b[0m\u001b[1;33m(\u001b[0m\u001b[0mrecords\u001b[0m\u001b[1;33m,\u001b[0m \u001b[0mlast_unique\u001b[0m\u001b[1;33m,\u001b[0m \u001b[0mrecursion_repeat\u001b[0m\u001b[1;33m)\u001b[0m\u001b[1;33m\u001b[0m\u001b[0m\n",
      "\u001b[1;32mc:\\users\\alexk\\anaconda3\\envs\\predicting_km\\lib\\site-packages\\IPython\\core\\ultratb.py\u001b[0m in \u001b[0;36mfind_recursion\u001b[1;34m(etype, value, records)\u001b[0m\n\u001b[0;32m    449\u001b[0m     \u001b[1;31m# first frame (from in to out) that looks different.\u001b[0m\u001b[1;33m\u001b[0m\u001b[1;33m\u001b[0m\u001b[0m\n\u001b[0;32m    450\u001b[0m     \u001b[1;32mif\u001b[0m \u001b[1;32mnot\u001b[0m \u001b[0mis_recursion_error\u001b[0m\u001b[1;33m(\u001b[0m\u001b[0metype\u001b[0m\u001b[1;33m,\u001b[0m \u001b[0mvalue\u001b[0m\u001b[1;33m,\u001b[0m \u001b[0mrecords\u001b[0m\u001b[1;33m)\u001b[0m\u001b[1;33m:\u001b[0m\u001b[1;33m\u001b[0m\u001b[0m\n\u001b[1;32m--> 451\u001b[1;33m         \u001b[1;32mreturn\u001b[0m \u001b[0mlen\u001b[0m\u001b[1;33m(\u001b[0m\u001b[0mrecords\u001b[0m\u001b[1;33m)\u001b[0m\u001b[1;33m,\u001b[0m \u001b[1;36m0\u001b[0m\u001b[1;33m\u001b[0m\u001b[0m\n\u001b[0m\u001b[0;32m    452\u001b[0m \u001b[1;33m\u001b[0m\u001b[0m\n\u001b[0;32m    453\u001b[0m     \u001b[1;31m# Select filename, lineno, func_name to track frames with\u001b[0m\u001b[1;33m\u001b[0m\u001b[1;33m\u001b[0m\u001b[0m\n",
      "\u001b[1;31mTypeError\u001b[0m: object of type 'NoneType' has no len()"
     ]
    }
   ],
   "source": [
    "calcualte_esm1b_ts_vectors(enzyme_list = [\"MGPPPAARRREGEPDNQDPAGLLTDKYELTMLAAALRDGSANRPTTFEVFARRLPTGRRYGVVAGTGRLLEALPQFRFDADACELLAQFLDPATVRYLREFRFRGDIDGYAEGELYFPGSPVLSVRGSFAECVLLETLVLSIFNHDTAIASAAARMVSAAGGRPLIEMGSRRTHERAAVAAARAAYIAGFAASSNLAAQRRYGVPAHGTAAHAFTMLHAQHGGPTELAERAAFRAQVEALGPGTTLLVDTYDVTTGVANAVAAAGAELGAIRIDSGELGVLARQAREQLDRLGATRTRIVVSGDLDEFSIAALRGEPVDSYGVGTSLVTGSGAPTANMVYKLVEVDGVPVQKRSSYKESPGGRKEALRRSRATGTITEELVHPAGRPPVIVEPHRVLTLPLVRAGQPVADTSLAAARQLVASGLRSLPGDGLKLAPGEPAIPTRTIPA\",\n",
    "                                          \"MKTVRQERLKSIVRILERSKEPVSGAQLAEELSVSRQVIVQDIAYLRSLGYNIVATPRGYVLAGG\",\n",
    "                                            \"MKTVRQERLKSIVRILERSKEPVSGAQLAEELSVSRQVIVQDI\",\n",
    "                                           \"MKTVRQERLKSIVRILERSKEPVSGAQLAEELSVSRQVIVQDI\"*2000,\n",
    "                                            \"MKTVRQERLKSIVRILERSKEPVSGAQLAEELSVSRQVIVQDI\",\n",
    "                                            \"MKTVRQERLKSIVRILERSKEPVSGAQLAEELSVSRQVIVQDI\",\n",
    "                                            \"MKTVRQERLKSIVRILERSKEPVSGAQLAEELSVSRQVIVQDI\",\n",
    "                                            \"MKTVRQERLKSIVRILERSKEPVSGAQLAEELSVSRQVIVQDI\",\n",
    "                                            \"MKTVRQERLKSIVRILERSKEPVSGAQLAEELSVSRQVIVQDI\"])"
   ]
  },
  {
   "cell_type": "code",
   "execution_count": 3,
   "metadata": {
    "scrolled": true
   },
   "outputs": [
    {
     "name": "stdout",
     "output_type": "stream",
     "text": [
      ".....2(a) Loading ESM-1b model.\n",
      ".....2(b) Loading model parameters for task-specific model.\n"
     ]
    },
    {
     "ename": "RuntimeError",
     "evalue": "Attempting to deserialize object on a CUDA device but torch.cuda.is_available() is False. If you are running on a CPU-only machine, please use torch.load with map_location=torch.device('cpu') to map your storages to the CPU.",
     "output_type": "error",
     "traceback": [
      "\u001b[1;31m---------------------------------------------------------------------------\u001b[0m",
      "\u001b[1;31mRuntimeError\u001b[0m                              Traceback (most recent call last)",
      "\u001b[1;32m<ipython-input-3-61d5384e77c9>\u001b[0m in \u001b[0;36m<module>\u001b[1;34m\u001b[0m\n\u001b[0;32m     18\u001b[0m \u001b[0mmodel\u001b[0m\u001b[1;33m.\u001b[0m\u001b[0meval\u001b[0m\u001b[1;33m(\u001b[0m\u001b[1;33m)\u001b[0m\u001b[1;33m\u001b[0m\u001b[0m\n\u001b[0;32m     19\u001b[0m \u001b[0mPATH\u001b[0m \u001b[1;33m=\u001b[0m \u001b[0mjoin\u001b[0m\u001b[1;33m(\u001b[0m\u001b[0mCURRENT_DIR\u001b[0m\u001b[1;33m,\u001b[0m \u001b[1;34m\"..\"\u001b[0m\u001b[1;33m,\u001b[0m \u001b[1;34m\"data\"\u001b[0m\u001b[1;33m,\u001b[0m \u001b[1;34m\"saved_models\"\u001b[0m\u001b[1;33m,\u001b[0m \u001b[1;34m\"ESM1b\"\u001b[0m\u001b[1;33m,\u001b[0m \u001b[1;34m'model_ESM_binary_A100_epoch_1_new_split.pkl'\u001b[0m\u001b[1;33m)\u001b[0m\u001b[1;33m\u001b[0m\u001b[0m\n\u001b[1;32m---> 20\u001b[1;33m \u001b[0mmodel_dict\u001b[0m \u001b[1;33m=\u001b[0m \u001b[0mtorch\u001b[0m\u001b[1;33m.\u001b[0m\u001b[0mload\u001b[0m\u001b[1;33m(\u001b[0m\u001b[0mPATH\u001b[0m\u001b[1;33m)\u001b[0m\u001b[1;33m\u001b[0m\u001b[0m\n\u001b[0m\u001b[0;32m     21\u001b[0m \u001b[0mmodel_dict_V2\u001b[0m \u001b[1;33m=\u001b[0m \u001b[1;33m{\u001b[0m\u001b[0mk\u001b[0m\u001b[1;33m.\u001b[0m\u001b[0msplit\u001b[0m\u001b[1;33m(\u001b[0m\u001b[1;34m\"model.\"\u001b[0m\u001b[1;33m)\u001b[0m\u001b[1;33m[\u001b[0m\u001b[1;33m-\u001b[0m\u001b[1;36m1\u001b[0m\u001b[1;33m]\u001b[0m\u001b[1;33m:\u001b[0m \u001b[0mv\u001b[0m \u001b[1;32mfor\u001b[0m \u001b[0mk\u001b[0m\u001b[1;33m,\u001b[0m \u001b[0mv\u001b[0m \u001b[1;32min\u001b[0m \u001b[0mmodel_dict\u001b[0m\u001b[1;33m.\u001b[0m\u001b[0mitems\u001b[0m\u001b[1;33m(\u001b[0m\u001b[1;33m)\u001b[0m\u001b[1;33m}\u001b[0m\u001b[1;33m\u001b[0m\u001b[0m\n\u001b[0;32m     22\u001b[0m \u001b[1;33m\u001b[0m\u001b[0m\n",
      "\u001b[1;32mc:\\users\\alexk\\anaconda3\\envs\\predicting_km\\lib\\site-packages\\torch\\serialization.py\u001b[0m in \u001b[0;36mload\u001b[1;34m(f, map_location, pickle_module, **pickle_load_args)\u001b[0m\n\u001b[0;32m    592\u001b[0m                     \u001b[0mopened_file\u001b[0m\u001b[1;33m.\u001b[0m\u001b[0mseek\u001b[0m\u001b[1;33m(\u001b[0m\u001b[0morig_position\u001b[0m\u001b[1;33m)\u001b[0m\u001b[1;33m\u001b[0m\u001b[0m\n\u001b[0;32m    593\u001b[0m                     \u001b[1;32mreturn\u001b[0m \u001b[0mtorch\u001b[0m\u001b[1;33m.\u001b[0m\u001b[0mjit\u001b[0m\u001b[1;33m.\u001b[0m\u001b[0mload\u001b[0m\u001b[1;33m(\u001b[0m\u001b[0mopened_file\u001b[0m\u001b[1;33m)\u001b[0m\u001b[1;33m\u001b[0m\u001b[0m\n\u001b[1;32m--> 594\u001b[1;33m                 \u001b[1;32mreturn\u001b[0m \u001b[0m_load\u001b[0m\u001b[1;33m(\u001b[0m\u001b[0mopened_zipfile\u001b[0m\u001b[1;33m,\u001b[0m \u001b[0mmap_location\u001b[0m\u001b[1;33m,\u001b[0m \u001b[0mpickle_module\u001b[0m\u001b[1;33m,\u001b[0m \u001b[1;33m**\u001b[0m\u001b[0mpickle_load_args\u001b[0m\u001b[1;33m)\u001b[0m\u001b[1;33m\u001b[0m\u001b[0m\n\u001b[0m\u001b[0;32m    595\u001b[0m         \u001b[1;32mreturn\u001b[0m \u001b[0m_legacy_load\u001b[0m\u001b[1;33m(\u001b[0m\u001b[0mopened_file\u001b[0m\u001b[1;33m,\u001b[0m \u001b[0mmap_location\u001b[0m\u001b[1;33m,\u001b[0m \u001b[0mpickle_module\u001b[0m\u001b[1;33m,\u001b[0m \u001b[1;33m**\u001b[0m\u001b[0mpickle_load_args\u001b[0m\u001b[1;33m)\u001b[0m\u001b[1;33m\u001b[0m\u001b[0m\n\u001b[0;32m    596\u001b[0m \u001b[1;33m\u001b[0m\u001b[0m\n",
      "\u001b[1;32mc:\\users\\alexk\\anaconda3\\envs\\predicting_km\\lib\\site-packages\\torch\\serialization.py\u001b[0m in \u001b[0;36m_load\u001b[1;34m(zip_file, map_location, pickle_module, pickle_file, **pickle_load_args)\u001b[0m\n\u001b[0;32m    851\u001b[0m     \u001b[0munpickler\u001b[0m \u001b[1;33m=\u001b[0m \u001b[0mpickle_module\u001b[0m\u001b[1;33m.\u001b[0m\u001b[0mUnpickler\u001b[0m\u001b[1;33m(\u001b[0m\u001b[0mdata_file\u001b[0m\u001b[1;33m,\u001b[0m \u001b[1;33m**\u001b[0m\u001b[0mpickle_load_args\u001b[0m\u001b[1;33m)\u001b[0m\u001b[1;33m\u001b[0m\u001b[0m\n\u001b[0;32m    852\u001b[0m     \u001b[0munpickler\u001b[0m\u001b[1;33m.\u001b[0m\u001b[0mpersistent_load\u001b[0m \u001b[1;33m=\u001b[0m \u001b[0mpersistent_load\u001b[0m\u001b[1;33m\u001b[0m\u001b[0m\n\u001b[1;32m--> 853\u001b[1;33m     \u001b[0mresult\u001b[0m \u001b[1;33m=\u001b[0m \u001b[0munpickler\u001b[0m\u001b[1;33m.\u001b[0m\u001b[0mload\u001b[0m\u001b[1;33m(\u001b[0m\u001b[1;33m)\u001b[0m\u001b[1;33m\u001b[0m\u001b[0m\n\u001b[0m\u001b[0;32m    854\u001b[0m \u001b[1;33m\u001b[0m\u001b[0m\n\u001b[0;32m    855\u001b[0m     \u001b[0mtorch\u001b[0m\u001b[1;33m.\u001b[0m\u001b[0m_utils\u001b[0m\u001b[1;33m.\u001b[0m\u001b[0m_validate_loaded_sparse_tensors\u001b[0m\u001b[1;33m(\u001b[0m\u001b[1;33m)\u001b[0m\u001b[1;33m\u001b[0m\u001b[0m\n",
      "\u001b[1;32mc:\\users\\alexk\\anaconda3\\envs\\predicting_km\\lib\\site-packages\\torch\\serialization.py\u001b[0m in \u001b[0;36mpersistent_load\u001b[1;34m(saved_id)\u001b[0m\n\u001b[0;32m    843\u001b[0m         \u001b[0mdata_type\u001b[0m\u001b[1;33m,\u001b[0m \u001b[0mkey\u001b[0m\u001b[1;33m,\u001b[0m \u001b[0mlocation\u001b[0m\u001b[1;33m,\u001b[0m \u001b[0msize\u001b[0m \u001b[1;33m=\u001b[0m \u001b[0mdata\u001b[0m\u001b[1;33m\u001b[0m\u001b[0m\n\u001b[0;32m    844\u001b[0m         \u001b[1;32mif\u001b[0m \u001b[0mkey\u001b[0m \u001b[1;32mnot\u001b[0m \u001b[1;32min\u001b[0m \u001b[0mloaded_storages\u001b[0m\u001b[1;33m:\u001b[0m\u001b[1;33m\u001b[0m\u001b[0m\n\u001b[1;32m--> 845\u001b[1;33m             \u001b[0mload_tensor\u001b[0m\u001b[1;33m(\u001b[0m\u001b[0mdata_type\u001b[0m\u001b[1;33m,\u001b[0m \u001b[0msize\u001b[0m\u001b[1;33m,\u001b[0m \u001b[0mkey\u001b[0m\u001b[1;33m,\u001b[0m \u001b[0m_maybe_decode_ascii\u001b[0m\u001b[1;33m(\u001b[0m\u001b[0mlocation\u001b[0m\u001b[1;33m)\u001b[0m\u001b[1;33m)\u001b[0m\u001b[1;33m\u001b[0m\u001b[0m\n\u001b[0m\u001b[0;32m    846\u001b[0m         \u001b[0mstorage\u001b[0m \u001b[1;33m=\u001b[0m \u001b[0mloaded_storages\u001b[0m\u001b[1;33m[\u001b[0m\u001b[0mkey\u001b[0m\u001b[1;33m]\u001b[0m\u001b[1;33m\u001b[0m\u001b[0m\n\u001b[0;32m    847\u001b[0m         \u001b[1;32mreturn\u001b[0m \u001b[0mstorage\u001b[0m\u001b[1;33m\u001b[0m\u001b[0m\n",
      "\u001b[1;32mc:\\users\\alexk\\anaconda3\\envs\\predicting_km\\lib\\site-packages\\torch\\serialization.py\u001b[0m in \u001b[0;36mload_tensor\u001b[1;34m(data_type, size, key, location)\u001b[0m\n\u001b[0;32m    832\u001b[0m \u001b[1;33m\u001b[0m\u001b[0m\n\u001b[0;32m    833\u001b[0m         \u001b[0mstorage\u001b[0m \u001b[1;33m=\u001b[0m \u001b[0mzip_file\u001b[0m\u001b[1;33m.\u001b[0m\u001b[0mget_storage_from_record\u001b[0m\u001b[1;33m(\u001b[0m\u001b[0mname\u001b[0m\u001b[1;33m,\u001b[0m \u001b[0msize\u001b[0m\u001b[1;33m,\u001b[0m \u001b[0mdtype\u001b[0m\u001b[1;33m)\u001b[0m\u001b[1;33m.\u001b[0m\u001b[0mstorage\u001b[0m\u001b[1;33m(\u001b[0m\u001b[1;33m)\u001b[0m\u001b[1;33m\u001b[0m\u001b[0m\n\u001b[1;32m--> 834\u001b[1;33m         \u001b[0mloaded_storages\u001b[0m\u001b[1;33m[\u001b[0m\u001b[0mkey\u001b[0m\u001b[1;33m]\u001b[0m \u001b[1;33m=\u001b[0m \u001b[0mrestore_location\u001b[0m\u001b[1;33m(\u001b[0m\u001b[0mstorage\u001b[0m\u001b[1;33m,\u001b[0m \u001b[0mlocation\u001b[0m\u001b[1;33m)\u001b[0m\u001b[1;33m\u001b[0m\u001b[0m\n\u001b[0m\u001b[0;32m    835\u001b[0m \u001b[1;33m\u001b[0m\u001b[0m\n\u001b[0;32m    836\u001b[0m     \u001b[1;32mdef\u001b[0m \u001b[0mpersistent_load\u001b[0m\u001b[1;33m(\u001b[0m\u001b[0msaved_id\u001b[0m\u001b[1;33m)\u001b[0m\u001b[1;33m:\u001b[0m\u001b[1;33m\u001b[0m\u001b[0m\n",
      "\u001b[1;32mc:\\users\\alexk\\anaconda3\\envs\\predicting_km\\lib\\site-packages\\torch\\serialization.py\u001b[0m in \u001b[0;36mdefault_restore_location\u001b[1;34m(storage, location)\u001b[0m\n\u001b[0;32m    173\u001b[0m \u001b[1;32mdef\u001b[0m \u001b[0mdefault_restore_location\u001b[0m\u001b[1;33m(\u001b[0m\u001b[0mstorage\u001b[0m\u001b[1;33m,\u001b[0m \u001b[0mlocation\u001b[0m\u001b[1;33m)\u001b[0m\u001b[1;33m:\u001b[0m\u001b[1;33m\u001b[0m\u001b[0m\n\u001b[0;32m    174\u001b[0m     \u001b[1;32mfor\u001b[0m \u001b[0m_\u001b[0m\u001b[1;33m,\u001b[0m \u001b[0m_\u001b[0m\u001b[1;33m,\u001b[0m \u001b[0mfn\u001b[0m \u001b[1;32min\u001b[0m \u001b[0m_package_registry\u001b[0m\u001b[1;33m:\u001b[0m\u001b[1;33m\u001b[0m\u001b[0m\n\u001b[1;32m--> 175\u001b[1;33m         \u001b[0mresult\u001b[0m \u001b[1;33m=\u001b[0m \u001b[0mfn\u001b[0m\u001b[1;33m(\u001b[0m\u001b[0mstorage\u001b[0m\u001b[1;33m,\u001b[0m \u001b[0mlocation\u001b[0m\u001b[1;33m)\u001b[0m\u001b[1;33m\u001b[0m\u001b[0m\n\u001b[0m\u001b[0;32m    176\u001b[0m         \u001b[1;32mif\u001b[0m \u001b[0mresult\u001b[0m \u001b[1;32mis\u001b[0m \u001b[1;32mnot\u001b[0m \u001b[1;32mNone\u001b[0m\u001b[1;33m:\u001b[0m\u001b[1;33m\u001b[0m\u001b[0m\n\u001b[0;32m    177\u001b[0m             \u001b[1;32mreturn\u001b[0m \u001b[0mresult\u001b[0m\u001b[1;33m\u001b[0m\u001b[0m\n",
      "\u001b[1;32mc:\\users\\alexk\\anaconda3\\envs\\predicting_km\\lib\\site-packages\\torch\\serialization.py\u001b[0m in \u001b[0;36m_cuda_deserialize\u001b[1;34m(obj, location)\u001b[0m\n\u001b[0;32m    149\u001b[0m \u001b[1;32mdef\u001b[0m \u001b[0m_cuda_deserialize\u001b[0m\u001b[1;33m(\u001b[0m\u001b[0mobj\u001b[0m\u001b[1;33m,\u001b[0m \u001b[0mlocation\u001b[0m\u001b[1;33m)\u001b[0m\u001b[1;33m:\u001b[0m\u001b[1;33m\u001b[0m\u001b[0m\n\u001b[0;32m    150\u001b[0m     \u001b[1;32mif\u001b[0m \u001b[0mlocation\u001b[0m\u001b[1;33m.\u001b[0m\u001b[0mstartswith\u001b[0m\u001b[1;33m(\u001b[0m\u001b[1;34m'cuda'\u001b[0m\u001b[1;33m)\u001b[0m\u001b[1;33m:\u001b[0m\u001b[1;33m\u001b[0m\u001b[0m\n\u001b[1;32m--> 151\u001b[1;33m         \u001b[0mdevice\u001b[0m \u001b[1;33m=\u001b[0m \u001b[0mvalidate_cuda_device\u001b[0m\u001b[1;33m(\u001b[0m\u001b[0mlocation\u001b[0m\u001b[1;33m)\u001b[0m\u001b[1;33m\u001b[0m\u001b[0m\n\u001b[0m\u001b[0;32m    152\u001b[0m         \u001b[1;32mif\u001b[0m \u001b[0mgetattr\u001b[0m\u001b[1;33m(\u001b[0m\u001b[0mobj\u001b[0m\u001b[1;33m,\u001b[0m \u001b[1;34m\"_torch_load_uninitialized\"\u001b[0m\u001b[1;33m,\u001b[0m \u001b[1;32mFalse\u001b[0m\u001b[1;33m)\u001b[0m\u001b[1;33m:\u001b[0m\u001b[1;33m\u001b[0m\u001b[0m\n\u001b[0;32m    153\u001b[0m             \u001b[0mstorage_type\u001b[0m \u001b[1;33m=\u001b[0m \u001b[0mgetattr\u001b[0m\u001b[1;33m(\u001b[0m\u001b[0mtorch\u001b[0m\u001b[1;33m.\u001b[0m\u001b[0mcuda\u001b[0m\u001b[1;33m,\u001b[0m \u001b[0mtype\u001b[0m\u001b[1;33m(\u001b[0m\u001b[0mobj\u001b[0m\u001b[1;33m)\u001b[0m\u001b[1;33m.\u001b[0m\u001b[0m__name__\u001b[0m\u001b[1;33m)\u001b[0m\u001b[1;33m\u001b[0m\u001b[0m\n",
      "\u001b[1;32mc:\\users\\alexk\\anaconda3\\envs\\predicting_km\\lib\\site-packages\\torch\\serialization.py\u001b[0m in \u001b[0;36mvalidate_cuda_device\u001b[1;34m(location)\u001b[0m\n\u001b[0;32m    133\u001b[0m \u001b[1;33m\u001b[0m\u001b[0m\n\u001b[0;32m    134\u001b[0m     \u001b[1;32mif\u001b[0m \u001b[1;32mnot\u001b[0m \u001b[0mtorch\u001b[0m\u001b[1;33m.\u001b[0m\u001b[0mcuda\u001b[0m\u001b[1;33m.\u001b[0m\u001b[0mis_available\u001b[0m\u001b[1;33m(\u001b[0m\u001b[1;33m)\u001b[0m\u001b[1;33m:\u001b[0m\u001b[1;33m\u001b[0m\u001b[0m\n\u001b[1;32m--> 135\u001b[1;33m         raise RuntimeError('Attempting to deserialize object on a CUDA '\n\u001b[0m\u001b[0;32m    136\u001b[0m                            \u001b[1;34m'device but torch.cuda.is_available() is False. '\u001b[0m\u001b[1;33m\u001b[0m\u001b[0m\n\u001b[0;32m    137\u001b[0m                            \u001b[1;34m'If you are running on a CPU-only machine, '\u001b[0m\u001b[1;33m\u001b[0m\u001b[0m\n",
      "\u001b[1;31mRuntimeError\u001b[0m: Attempting to deserialize object on a CUDA device but torch.cuda.is_available() is False. If you are running on a CPU-only machine, please use torch.load with map_location=torch.device('cpu') to map your storages to the CPU."
     ]
    }
   ],
   "source": []
  },
  {
   "cell_type": "code",
   "execution_count": 13,
   "metadata": {},
   "outputs": [
    {
     "name": "stdout",
     "output_type": "stream",
     "text": [
      ".....2(a) Loading ESM-1b model.\n"
     ]
    },
    {
     "ename": "KeyboardInterrupt",
     "evalue": "",
     "output_type": "error",
     "traceback": [
      "\u001b[1;31m---------------------------------------------------------------------------\u001b[0m",
      "\u001b[1;31mKeyboardInterrupt\u001b[0m                         Traceback (most recent call last)",
      "\u001b[1;32m<ipython-input-13-c207672358fb>\u001b[0m in \u001b[0;36m<module>\u001b[1;34m\u001b[0m\n\u001b[0;32m     13\u001b[0m \u001b[1;31m#loading ESM-1b model:\u001b[0m\u001b[1;33m\u001b[0m\u001b[1;33m\u001b[0m\u001b[0m\n\u001b[0;32m     14\u001b[0m \u001b[0mprint\u001b[0m\u001b[1;33m(\u001b[0m\u001b[1;34m\".....2(a) Loading ESM-1b model.\"\u001b[0m\u001b[1;33m)\u001b[0m\u001b[1;33m\u001b[0m\u001b[0m\n\u001b[1;32m---> 15\u001b[1;33m \u001b[0mmodel\u001b[0m\u001b[1;33m,\u001b[0m \u001b[0malphabet\u001b[0m \u001b[1;33m=\u001b[0m \u001b[0mesm\u001b[0m\u001b[1;33m.\u001b[0m\u001b[0mpretrained\u001b[0m\u001b[1;33m.\u001b[0m\u001b[0mesm1b_t33_650M_UR50S\u001b[0m\u001b[1;33m(\u001b[0m\u001b[1;33m)\u001b[0m\u001b[1;33m\u001b[0m\u001b[0m\n\u001b[0m\u001b[0;32m     16\u001b[0m \u001b[0mbatch_converter\u001b[0m \u001b[1;33m=\u001b[0m \u001b[0malphabet\u001b[0m\u001b[1;33m.\u001b[0m\u001b[0mget_batch_converter\u001b[0m\u001b[1;33m(\u001b[0m\u001b[1;33m)\u001b[0m\u001b[1;33m\u001b[0m\u001b[0m\n\u001b[0;32m     17\u001b[0m \u001b[0mprint\u001b[0m\u001b[1;33m(\u001b[0m\u001b[1;34m\".....2(b) Loading model parameters for task-specific model.\"\u001b[0m\u001b[1;33m)\u001b[0m\u001b[1;33m\u001b[0m\u001b[0m\n",
      "\u001b[1;32mc:\\users\\alexk\\anaconda3\\envs\\predicting_km\\lib\\site-packages\\esm\\pretrained.py\u001b[0m in \u001b[0;36mesm1b_t33_650M_UR50S\u001b[1;34m()\u001b[0m\n\u001b[0;32m    157\u001b[0m     \u001b[0mReturns\u001b[0m \u001b[0ma\u001b[0m \u001b[0mtuple\u001b[0m \u001b[0mof\u001b[0m \u001b[1;33m(\u001b[0m\u001b[0mModel\u001b[0m\u001b[1;33m,\u001b[0m \u001b[0mAlphabet\u001b[0m\u001b[1;33m)\u001b[0m\u001b[1;33m.\u001b[0m\u001b[1;33m\u001b[0m\u001b[0m\n\u001b[0;32m    158\u001b[0m     \"\"\"\n\u001b[1;32m--> 159\u001b[1;33m     \u001b[1;32mreturn\u001b[0m \u001b[0mload_model_and_alphabet_hub\u001b[0m\u001b[1;33m(\u001b[0m\u001b[1;34m\"esm1b_t33_650M_UR50S\"\u001b[0m\u001b[1;33m)\u001b[0m\u001b[1;33m\u001b[0m\u001b[0m\n\u001b[0m\u001b[0;32m    160\u001b[0m \u001b[1;33m\u001b[0m\u001b[0m\n\u001b[0;32m    161\u001b[0m \u001b[1;32mdef\u001b[0m \u001b[0mesm_msa1_t12_100M_UR50S\u001b[0m\u001b[1;33m(\u001b[0m\u001b[1;33m)\u001b[0m\u001b[1;33m:\u001b[0m\u001b[1;33m\u001b[0m\u001b[0m\n",
      "\u001b[1;32mc:\\users\\alexk\\anaconda3\\envs\\predicting_km\\lib\\site-packages\\esm\\pretrained.py\u001b[0m in \u001b[0;36mload_model_and_alphabet_hub\u001b[1;34m(model_name)\u001b[0m\n\u001b[0;32m     37\u001b[0m \u001b[1;32mdef\u001b[0m \u001b[0mload_model_and_alphabet_hub\u001b[0m\u001b[1;33m(\u001b[0m\u001b[0mmodel_name\u001b[0m\u001b[1;33m)\u001b[0m\u001b[1;33m:\u001b[0m\u001b[1;33m\u001b[0m\u001b[0m\n\u001b[0;32m     38\u001b[0m     \u001b[0murl\u001b[0m \u001b[1;33m=\u001b[0m \u001b[1;34mf\"https://dl.fbaipublicfiles.com/fair-esm/models/{model_name}.pt\"\u001b[0m\u001b[1;33m\u001b[0m\u001b[0m\n\u001b[1;32m---> 39\u001b[1;33m     \u001b[0mmodel_data\u001b[0m \u001b[1;33m=\u001b[0m \u001b[0mload_hub_workaround\u001b[0m\u001b[1;33m(\u001b[0m\u001b[0murl\u001b[0m\u001b[1;33m)\u001b[0m\u001b[1;33m\u001b[0m\u001b[0m\n\u001b[0m\u001b[0;32m     40\u001b[0m     \u001b[0mregression_data\u001b[0m \u001b[1;33m=\u001b[0m \u001b[0mload_regression_hub\u001b[0m\u001b[1;33m(\u001b[0m\u001b[0mmodel_name\u001b[0m\u001b[1;33m)\u001b[0m\u001b[1;33m\u001b[0m\u001b[0m\n\u001b[0;32m     41\u001b[0m     \u001b[1;32mreturn\u001b[0m \u001b[0mload_model_and_alphabet_core\u001b[0m\u001b[1;33m(\u001b[0m\u001b[0mmodel_data\u001b[0m\u001b[1;33m,\u001b[0m \u001b[0mregression_data\u001b[0m\u001b[1;33m)\u001b[0m\u001b[1;33m\u001b[0m\u001b[0m\n",
      "\u001b[1;32mc:\\users\\alexk\\anaconda3\\envs\\predicting_km\\lib\\site-packages\\esm\\pretrained.py\u001b[0m in \u001b[0;36mload_hub_workaround\u001b[1;34m(url)\u001b[0m\n\u001b[0;32m     19\u001b[0m \u001b[1;32mdef\u001b[0m \u001b[0mload_hub_workaround\u001b[0m\u001b[1;33m(\u001b[0m\u001b[0murl\u001b[0m\u001b[1;33m)\u001b[0m\u001b[1;33m:\u001b[0m\u001b[1;33m\u001b[0m\u001b[0m\n\u001b[0;32m     20\u001b[0m     \u001b[1;32mtry\u001b[0m\u001b[1;33m:\u001b[0m\u001b[1;33m\u001b[0m\u001b[0m\n\u001b[1;32m---> 21\u001b[1;33m         \u001b[0mdata\u001b[0m \u001b[1;33m=\u001b[0m \u001b[0mtorch\u001b[0m\u001b[1;33m.\u001b[0m\u001b[0mhub\u001b[0m\u001b[1;33m.\u001b[0m\u001b[0mload_state_dict_from_url\u001b[0m\u001b[1;33m(\u001b[0m\u001b[0murl\u001b[0m\u001b[1;33m,\u001b[0m \u001b[0mprogress\u001b[0m\u001b[1;33m=\u001b[0m\u001b[1;32mFalse\u001b[0m\u001b[1;33m,\u001b[0m \u001b[0mmap_location\u001b[0m\u001b[1;33m=\u001b[0m\u001b[1;34m'cpu'\u001b[0m\u001b[1;33m)\u001b[0m\u001b[1;33m\u001b[0m\u001b[0m\n\u001b[0m\u001b[0;32m     22\u001b[0m     \u001b[1;32mexcept\u001b[0m \u001b[0mRuntimeError\u001b[0m\u001b[1;33m:\u001b[0m\u001b[1;33m\u001b[0m\u001b[0m\n\u001b[0;32m     23\u001b[0m         \u001b[1;31m# Pytorch version issue - see https://github.com/pytorch/pytorch/issues/43106\u001b[0m\u001b[1;33m\u001b[0m\u001b[1;33m\u001b[0m\u001b[0m\n",
      "\u001b[1;32mc:\\users\\alexk\\anaconda3\\envs\\predicting_km\\lib\\site-packages\\torch\\hub.py\u001b[0m in \u001b[0;36mload_state_dict_from_url\u001b[1;34m(url, model_dir, map_location, progress, check_hash, file_name)\u001b[0m\n\u001b[0;32m    557\u001b[0m     \u001b[1;32mif\u001b[0m \u001b[0m_is_legacy_zip_format\u001b[0m\u001b[1;33m(\u001b[0m\u001b[0mcached_file\u001b[0m\u001b[1;33m)\u001b[0m\u001b[1;33m:\u001b[0m\u001b[1;33m\u001b[0m\u001b[0m\n\u001b[0;32m    558\u001b[0m         \u001b[1;32mreturn\u001b[0m \u001b[0m_legacy_zip_load\u001b[0m\u001b[1;33m(\u001b[0m\u001b[0mcached_file\u001b[0m\u001b[1;33m,\u001b[0m \u001b[0mmodel_dir\u001b[0m\u001b[1;33m,\u001b[0m \u001b[0mmap_location\u001b[0m\u001b[1;33m)\u001b[0m\u001b[1;33m\u001b[0m\u001b[0m\n\u001b[1;32m--> 559\u001b[1;33m     \u001b[1;32mreturn\u001b[0m \u001b[0mtorch\u001b[0m\u001b[1;33m.\u001b[0m\u001b[0mload\u001b[0m\u001b[1;33m(\u001b[0m\u001b[0mcached_file\u001b[0m\u001b[1;33m,\u001b[0m \u001b[0mmap_location\u001b[0m\u001b[1;33m=\u001b[0m\u001b[0mmap_location\u001b[0m\u001b[1;33m)\u001b[0m\u001b[1;33m\u001b[0m\u001b[0m\n\u001b[0m",
      "\u001b[1;32mc:\\users\\alexk\\anaconda3\\envs\\predicting_km\\lib\\site-packages\\torch\\serialization.py\u001b[0m in \u001b[0;36mload\u001b[1;34m(f, map_location, pickle_module, **pickle_load_args)\u001b[0m\n\u001b[0;32m    593\u001b[0m                     \u001b[1;32mreturn\u001b[0m \u001b[0mtorch\u001b[0m\u001b[1;33m.\u001b[0m\u001b[0mjit\u001b[0m\u001b[1;33m.\u001b[0m\u001b[0mload\u001b[0m\u001b[1;33m(\u001b[0m\u001b[0mopened_file\u001b[0m\u001b[1;33m)\u001b[0m\u001b[1;33m\u001b[0m\u001b[0m\n\u001b[0;32m    594\u001b[0m                 \u001b[1;32mreturn\u001b[0m \u001b[0m_load\u001b[0m\u001b[1;33m(\u001b[0m\u001b[0mopened_zipfile\u001b[0m\u001b[1;33m,\u001b[0m \u001b[0mmap_location\u001b[0m\u001b[1;33m,\u001b[0m \u001b[0mpickle_module\u001b[0m\u001b[1;33m,\u001b[0m \u001b[1;33m**\u001b[0m\u001b[0mpickle_load_args\u001b[0m\u001b[1;33m)\u001b[0m\u001b[1;33m\u001b[0m\u001b[0m\n\u001b[1;32m--> 595\u001b[1;33m         \u001b[1;32mreturn\u001b[0m \u001b[0m_legacy_load\u001b[0m\u001b[1;33m(\u001b[0m\u001b[0mopened_file\u001b[0m\u001b[1;33m,\u001b[0m \u001b[0mmap_location\u001b[0m\u001b[1;33m,\u001b[0m \u001b[0mpickle_module\u001b[0m\u001b[1;33m,\u001b[0m \u001b[1;33m**\u001b[0m\u001b[0mpickle_load_args\u001b[0m\u001b[1;33m)\u001b[0m\u001b[1;33m\u001b[0m\u001b[0m\n\u001b[0m\u001b[0;32m    596\u001b[0m \u001b[1;33m\u001b[0m\u001b[0m\n\u001b[0;32m    597\u001b[0m \u001b[1;33m\u001b[0m\u001b[0m\n",
      "\u001b[1;32mc:\\users\\alexk\\anaconda3\\envs\\predicting_km\\lib\\site-packages\\torch\\serialization.py\u001b[0m in \u001b[0;36m_legacy_load\u001b[1;34m(f, map_location, pickle_module, **pickle_load_args)\u001b[0m\n\u001b[0;32m    781\u001b[0m         \u001b[0mdeserialized_objects\u001b[0m\u001b[1;33m[\u001b[0m\u001b[0mkey\u001b[0m\u001b[1;33m]\u001b[0m\u001b[1;33m.\u001b[0m\u001b[0m_set_from_file\u001b[0m\u001b[1;33m(\u001b[0m\u001b[0mf\u001b[0m\u001b[1;33m,\u001b[0m \u001b[0moffset\u001b[0m\u001b[1;33m,\u001b[0m \u001b[0mf_should_read_directly\u001b[0m\u001b[1;33m)\u001b[0m\u001b[1;33m\u001b[0m\u001b[0m\n\u001b[0;32m    782\u001b[0m         \u001b[1;32mif\u001b[0m \u001b[0moffset\u001b[0m \u001b[1;32mis\u001b[0m \u001b[1;32mnot\u001b[0m \u001b[1;32mNone\u001b[0m\u001b[1;33m:\u001b[0m\u001b[1;33m\u001b[0m\u001b[0m\n\u001b[1;32m--> 783\u001b[1;33m             \u001b[0moffset\u001b[0m \u001b[1;33m=\u001b[0m \u001b[0mf\u001b[0m\u001b[1;33m.\u001b[0m\u001b[0mtell\u001b[0m\u001b[1;33m(\u001b[0m\u001b[1;33m)\u001b[0m\u001b[1;33m\u001b[0m\u001b[0m\n\u001b[0m\u001b[0;32m    784\u001b[0m \u001b[1;33m\u001b[0m\u001b[0m\n\u001b[0;32m    785\u001b[0m     \u001b[0mtorch\u001b[0m\u001b[1;33m.\u001b[0m\u001b[0m_utils\u001b[0m\u001b[1;33m.\u001b[0m\u001b[0m_validate_loaded_sparse_tensors\u001b[0m\u001b[1;33m(\u001b[0m\u001b[1;33m)\u001b[0m\u001b[1;33m\u001b[0m\u001b[0m\n",
      "\u001b[1;31mKeyboardInterrupt\u001b[0m: "
     ]
    }
   ],
   "source": [
    "enzyme_list = [\"MKTVRQERLKSIVRILERSKEPVSGAQLAEELSVSRQVIVQDIAYLRSLGYNIVATPRGYVLAGG\",\n",
    "                            \"MKTVRQERLKSIVRILERSKEPVSGAQLAEELSVSRQVIVQDI\",\n",
    "                           \"MKTVRQERLKSIVRILERSKEPVSGAQLAEELSVSRQVIVQDI\"*2000,\n",
    "                            \"MKTVRQERLKSIVRILERSKEPVSGAQLAEELSVSRQVIVQDI\",\n",
    "                            \"MKTVRQERLKSIVRILERSKEPVSGAQLAEELSVSRQVIVQDI\",\n",
    "                            \"MKTVRQERLKSIVRILERSKEPVSGAQLAEELSVSRQVIVQDI\",\n",
    "                            \"MKTVRQERLKSIVRILERSKEPVSGAQLAEELSVSRQVIVQDI\",\n",
    "                            \"MKTVRQERLKSIVRILERSKEPVSGAQLAEELSVSRQVIVQDI\"]\n",
    "\n",
    "df_enzyme = preprocess_enzymes(enzyme_list)\n",
    "model_input = [(df_enzyme[\"ID\"][ind], df_enzyme[\"model_input\"][ind]) for ind in df_enzyme.index]\n",
    "seqs = [model_input[i][1] for i in range(len(model_input))]\n",
    "#loading ESM-1b model:\n",
    "print(\".....2(a) Loading ESM-1b model.\")\n",
    "model, alphabet = esm.pretrained.esm1b_t33_650M_UR50S()\n",
    "batch_converter = alphabet.get_batch_converter()\n",
    "print(\".....2(b) Loading model parameters for task-specific model.\")\n",
    "model.eval()\n",
    "PATH = join(CURRENT_DIR, \"..\", \"data\", \"saved_models\", \"ESM1b\", 'model_ESM_binary_A100_epoch_1_new_split.pkl')\n",
    "\n",
    "model_dict = torch.load(PATH, map_location=torch.device('cpu'))\n",
    "model_dict_V2 = {k.split(\"model.\")[-1]: v for k, v in model_dict.items()}\n",
    "\n",
    "for key in [\"module.fc1.weight\", \"module.fc1.bias\", \"module.fc2.weight\", \"module.fc2.bias\", \"module.fc3.weight\", \"module.fc3.bias\"]:\n",
    "    del model_dict_V2[key]\n",
    "model.load_state_dict(model_dict_V2)\n",
    "\n",
    "#convert input into batches:\n",
    "#Calculate ESM-1b representations\n",
    "print(\".....2(c) Calculating enzyme representations.\")\n",
    "df_enzyme[\"enzyme rep\"] = \"\"\n",
    "\n",
    "for ind in df_enzyme.index:\n",
    "    batch_labels, batch_strs, batch_tokens = batch_converter([(df_enzyme[\"ID\"][ind], df_enzyme[\"model_input\"][ind])])\n",
    "    with torch.no_grad():\n",
    "        results = model(batch_tokens, repr_layers=[33])\n",
    "    df_enzyme[\"enzyme rep\"][ind] = results[\"representations\"][33][0][0].numpy()"
   ]
  },
  {
   "cell_type": "code",
   "execution_count": 10,
   "metadata": {},
   "outputs": [
    {
     "data": {
      "text/html": [
       "<div>\n",
       "<style scoped>\n",
       "    .dataframe tbody tr th:only-of-type {\n",
       "        vertical-align: middle;\n",
       "    }\n",
       "\n",
       "    .dataframe tbody tr th {\n",
       "        vertical-align: top;\n",
       "    }\n",
       "\n",
       "    .dataframe thead th {\n",
       "        text-align: right;\n",
       "    }\n",
       "</style>\n",
       "<table border=\"1\" class=\"dataframe\">\n",
       "  <thead>\n",
       "    <tr style=\"text-align: right;\">\n",
       "      <th></th>\n",
       "      <th>amino acid sequence</th>\n",
       "      <th>ID</th>\n",
       "      <th>model_input</th>\n",
       "      <th>enzyme rep</th>\n",
       "    </tr>\n",
       "  </thead>\n",
       "  <tbody>\n",
       "    <tr>\n",
       "      <th>0</th>\n",
       "      <td>MKTVRQERLKSIVRILERSKEPVSGAQLAEELSVSRQVIVQDI</td>\n",
       "      <td>protein_0</td>\n",
       "      <td>MKTVRQERLKSIVRILERSKEPVSGAQLAEELSVSRQVIVQDI</td>\n",
       "      <td></td>\n",
       "    </tr>\n",
       "    <tr>\n",
       "      <th>1</th>\n",
       "      <td>MKTVRQERLKSIVRILERSKEPVSGAQLAEELSVSRQVIVQDIMKT...</td>\n",
       "      <td>protein_1</td>\n",
       "      <td>MKTVRQERLKSIVRILERSKEPVSGAQLAEELSVSRQVIVQDIMKT...</td>\n",
       "      <td></td>\n",
       "    </tr>\n",
       "    <tr>\n",
       "      <th>2</th>\n",
       "      <td>MKTVRQERLKSIVRILERSKEPVSGAQLAEELSVSRQVIVQDIAYL...</td>\n",
       "      <td>protein_2</td>\n",
       "      <td>MKTVRQERLKSIVRILERSKEPVSGAQLAEELSVSRQVIVQDIAYL...</td>\n",
       "      <td></td>\n",
       "    </tr>\n",
       "  </tbody>\n",
       "</table>\n",
       "</div>"
      ],
      "text/plain": [
       "                                 amino acid sequence         ID  \\\n",
       "0        MKTVRQERLKSIVRILERSKEPVSGAQLAEELSVSRQVIVQDI  protein_0   \n",
       "1  MKTVRQERLKSIVRILERSKEPVSGAQLAEELSVSRQVIVQDIMKT...  protein_1   \n",
       "2  MKTVRQERLKSIVRILERSKEPVSGAQLAEELSVSRQVIVQDIAYL...  protein_2   \n",
       "\n",
       "                                         model_input enzyme rep  \n",
       "0        MKTVRQERLKSIVRILERSKEPVSGAQLAEELSVSRQVIVQDI             \n",
       "1  MKTVRQERLKSIVRILERSKEPVSGAQLAEELSVSRQVIVQDIMKT...             \n",
       "2  MKTVRQERLKSIVRILERSKEPVSGAQLAEELSVSRQVIVQDIAYL...             "
      ]
     },
     "execution_count": 10,
     "metadata": {},
     "output_type": "execute_result"
    }
   ],
   "source": [
    "df_enzyme"
   ]
  },
  {
   "cell_type": "code",
   "execution_count": 9,
   "metadata": {},
   "outputs": [
    {
     "data": {
      "text/plain": [
       "['protein_0']"
      ]
     },
     "execution_count": 9,
     "metadata": {},
     "output_type": "execute_result"
    }
   ],
   "source": [
    "batch_labels"
   ]
  },
  {
   "cell_type": "code",
   "execution_count": 12,
   "metadata": {},
   "outputs": [
    {
     "data": {
      "text/plain": [
       "torch.Size([1280])"
      ]
     },
     "execution_count": 12,
     "metadata": {},
     "output_type": "execute_result"
    }
   ],
   "source": [
    "results[\"representations\"][33][0][0].shape"
   ]
  },
  {
   "cell_type": "markdown",
   "metadata": {},
   "source": [
    "Before using KM prediction, we have to download the ESM-1b model:"
   ]
  },
  {
   "cell_type": "code",
   "execution_count": 3,
   "metadata": {},
   "outputs": [
    {
     "name": "stderr",
     "output_type": "stream",
     "text": [
      "Using cache found in C:\\Users\\alexk/.cache\\torch\\hub\\facebookresearch_esm_main\n"
     ]
    },
    {
     "ename": "ImportError",
     "evalue": "cannot import name 'esm_msa1b_t12_100M_UR50S' from 'esm.pretrained' (c:\\users\\alexk\\anaconda3\\envs\\predicting_km\\lib\\site-packages\\esm\\pretrained.py)",
     "output_type": "error",
     "traceback": [
      "\u001b[1;31m---------------------------------------------------------------------------\u001b[0m",
      "\u001b[1;31mImportError\u001b[0m                               Traceback (most recent call last)",
      "\u001b[1;32m<ipython-input-3-cda4e0198856>\u001b[0m in \u001b[0;36m<module>\u001b[1;34m\u001b[0m\n\u001b[0;32m      1\u001b[0m \u001b[1;32mimport\u001b[0m \u001b[0mesm\u001b[0m\u001b[1;33m\u001b[0m\u001b[0m\n\u001b[0;32m      2\u001b[0m \u001b[1;33m\u001b[0m\u001b[0m\n\u001b[1;32m----> 3\u001b[1;33m \u001b[0mmodel\u001b[0m\u001b[1;33m,\u001b[0m \u001b[0malphabet\u001b[0m \u001b[1;33m=\u001b[0m \u001b[0mtorch\u001b[0m\u001b[1;33m.\u001b[0m\u001b[0mhub\u001b[0m\u001b[1;33m.\u001b[0m\u001b[0mload\u001b[0m\u001b[1;33m(\u001b[0m\u001b[1;34m\"facebookresearch/esm:main\"\u001b[0m\u001b[1;33m,\u001b[0m \u001b[1;34m\"esm1b_t33_650M_UR50S\"\u001b[0m\u001b[1;33m)\u001b[0m\u001b[1;33m\u001b[0m\u001b[0m\n\u001b[0m",
      "\u001b[1;32mc:\\users\\alexk\\anaconda3\\envs\\predicting_km\\lib\\site-packages\\torch\\hub.py\u001b[0m in \u001b[0;36mload\u001b[1;34m(repo_or_dir, model, *args, **kwargs)\u001b[0m\n\u001b[0;32m    368\u001b[0m         \u001b[0mrepo_or_dir\u001b[0m \u001b[1;33m=\u001b[0m \u001b[0m_get_cache_or_reload\u001b[0m\u001b[1;33m(\u001b[0m\u001b[0mrepo_or_dir\u001b[0m\u001b[1;33m,\u001b[0m \u001b[0mforce_reload\u001b[0m\u001b[1;33m,\u001b[0m \u001b[0mverbose\u001b[0m\u001b[1;33m)\u001b[0m\u001b[1;33m\u001b[0m\u001b[0m\n\u001b[0;32m    369\u001b[0m \u001b[1;33m\u001b[0m\u001b[0m\n\u001b[1;32m--> 370\u001b[1;33m     \u001b[0mmodel\u001b[0m \u001b[1;33m=\u001b[0m \u001b[0m_load_local\u001b[0m\u001b[1;33m(\u001b[0m\u001b[0mrepo_or_dir\u001b[0m\u001b[1;33m,\u001b[0m \u001b[0mmodel\u001b[0m\u001b[1;33m,\u001b[0m \u001b[1;33m*\u001b[0m\u001b[0margs\u001b[0m\u001b[1;33m,\u001b[0m \u001b[1;33m**\u001b[0m\u001b[0mkwargs\u001b[0m\u001b[1;33m)\u001b[0m\u001b[1;33m\u001b[0m\u001b[0m\n\u001b[0m\u001b[0;32m    371\u001b[0m     \u001b[1;32mreturn\u001b[0m \u001b[0mmodel\u001b[0m\u001b[1;33m\u001b[0m\u001b[0m\n\u001b[0;32m    372\u001b[0m \u001b[1;33m\u001b[0m\u001b[0m\n",
      "\u001b[1;32mc:\\users\\alexk\\anaconda3\\envs\\predicting_km\\lib\\site-packages\\torch\\hub.py\u001b[0m in \u001b[0;36m_load_local\u001b[1;34m(hubconf_dir, model, *args, **kwargs)\u001b[0m\n\u001b[0;32m    394\u001b[0m \u001b[1;33m\u001b[0m\u001b[0m\n\u001b[0;32m    395\u001b[0m     \u001b[0mhubconf_path\u001b[0m \u001b[1;33m=\u001b[0m \u001b[0mos\u001b[0m\u001b[1;33m.\u001b[0m\u001b[0mpath\u001b[0m\u001b[1;33m.\u001b[0m\u001b[0mjoin\u001b[0m\u001b[1;33m(\u001b[0m\u001b[0mhubconf_dir\u001b[0m\u001b[1;33m,\u001b[0m \u001b[0mMODULE_HUBCONF\u001b[0m\u001b[1;33m)\u001b[0m\u001b[1;33m\u001b[0m\u001b[0m\n\u001b[1;32m--> 396\u001b[1;33m     \u001b[0mhub_module\u001b[0m \u001b[1;33m=\u001b[0m \u001b[0mimport_module\u001b[0m\u001b[1;33m(\u001b[0m\u001b[0mMODULE_HUBCONF\u001b[0m\u001b[1;33m,\u001b[0m \u001b[0mhubconf_path\u001b[0m\u001b[1;33m)\u001b[0m\u001b[1;33m\u001b[0m\u001b[0m\n\u001b[0m\u001b[0;32m    397\u001b[0m \u001b[1;33m\u001b[0m\u001b[0m\n\u001b[0;32m    398\u001b[0m     \u001b[0mentry\u001b[0m \u001b[1;33m=\u001b[0m \u001b[0m_load_entry_from_hubconf\u001b[0m\u001b[1;33m(\u001b[0m\u001b[0mhub_module\u001b[0m\u001b[1;33m,\u001b[0m \u001b[0mmodel\u001b[0m\u001b[1;33m)\u001b[0m\u001b[1;33m\u001b[0m\u001b[0m\n",
      "\u001b[1;32mc:\\users\\alexk\\anaconda3\\envs\\predicting_km\\lib\\site-packages\\torch\\hub.py\u001b[0m in \u001b[0;36mimport_module\u001b[1;34m(name, path)\u001b[0m\n\u001b[0;32m     69\u001b[0m     \u001b[0mmodule\u001b[0m \u001b[1;33m=\u001b[0m \u001b[0mimportlib\u001b[0m\u001b[1;33m.\u001b[0m\u001b[0mutil\u001b[0m\u001b[1;33m.\u001b[0m\u001b[0mmodule_from_spec\u001b[0m\u001b[1;33m(\u001b[0m\u001b[0mspec\u001b[0m\u001b[1;33m)\u001b[0m\u001b[1;33m\u001b[0m\u001b[0m\n\u001b[0;32m     70\u001b[0m     \u001b[1;32massert\u001b[0m \u001b[0misinstance\u001b[0m\u001b[1;33m(\u001b[0m\u001b[0mspec\u001b[0m\u001b[1;33m.\u001b[0m\u001b[0mloader\u001b[0m\u001b[1;33m,\u001b[0m \u001b[0mLoader\u001b[0m\u001b[1;33m)\u001b[0m\u001b[1;33m\u001b[0m\u001b[0m\n\u001b[1;32m---> 71\u001b[1;33m     \u001b[0mspec\u001b[0m\u001b[1;33m.\u001b[0m\u001b[0mloader\u001b[0m\u001b[1;33m.\u001b[0m\u001b[0mexec_module\u001b[0m\u001b[1;33m(\u001b[0m\u001b[0mmodule\u001b[0m\u001b[1;33m)\u001b[0m\u001b[1;33m\u001b[0m\u001b[0m\n\u001b[0m\u001b[0;32m     72\u001b[0m     \u001b[1;32mreturn\u001b[0m \u001b[0mmodule\u001b[0m\u001b[1;33m\u001b[0m\u001b[0m\n\u001b[0;32m     73\u001b[0m \u001b[1;33m\u001b[0m\u001b[0m\n",
      "\u001b[1;32mc:\\users\\alexk\\anaconda3\\envs\\predicting_km\\lib\\importlib\\_bootstrap_external.py\u001b[0m in \u001b[0;36mexec_module\u001b[1;34m(self, module)\u001b[0m\n",
      "\u001b[1;32mc:\\users\\alexk\\anaconda3\\envs\\predicting_km\\lib\\importlib\\_bootstrap.py\u001b[0m in \u001b[0;36m_call_with_frames_removed\u001b[1;34m(f, *args, **kwds)\u001b[0m\n",
      "\u001b[1;32m~/.cache\\torch\\hub\\facebookresearch_esm_main\\hubconf.py\u001b[0m in \u001b[0;36m<module>\u001b[1;34m\u001b[0m\n\u001b[0;32m      6\u001b[0m \u001b[0mdependencies\u001b[0m \u001b[1;33m=\u001b[0m \u001b[1;33m[\u001b[0m\u001b[1;34m\"torch\"\u001b[0m\u001b[1;33m]\u001b[0m\u001b[1;33m\u001b[0m\u001b[0m\n\u001b[0;32m      7\u001b[0m \u001b[1;33m\u001b[0m\u001b[0m\n\u001b[1;32m----> 8\u001b[1;33m from esm.pretrained import (\n\u001b[0m\u001b[0;32m      9\u001b[0m     \u001b[0mesm1_t34_670M_UR50S\u001b[0m\u001b[1;33m,\u001b[0m\u001b[1;33m\u001b[0m\u001b[0m\n\u001b[0;32m     10\u001b[0m     \u001b[0mesm1_t34_670M_UR50D\u001b[0m\u001b[1;33m,\u001b[0m\u001b[1;33m\u001b[0m\u001b[0m\n",
      "\u001b[1;31mImportError\u001b[0m: cannot import name 'esm_msa1b_t12_100M_UR50S' from 'esm.pretrained' (c:\\users\\alexk\\anaconda3\\envs\\predicting_km\\lib\\site-packages\\esm\\pretrained.py)"
     ]
    }
   ],
   "source": [
    "import esm\n",
    "model, alphabet = torch.hub.load(\"facebookresearch/esm:main\", \"esm1b_t33_650M_UR50S\")"
   ]
  },
  {
   "cell_type": "markdown",
   "metadata": {},
   "source": [
    "Example for calculating KM prediction:"
   ]
  },
  {
   "cell_type": "code",
   "execution_count": 15,
   "metadata": {},
   "outputs": [
    {
     "data": {
      "text/html": [
       "<div>\n",
       "<style scoped>\n",
       "    .dataframe tbody tr th:only-of-type {\n",
       "        vertical-align: middle;\n",
       "    }\n",
       "\n",
       "    .dataframe tbody tr th {\n",
       "        vertical-align: top;\n",
       "    }\n",
       "\n",
       "    .dataframe thead th {\n",
       "        text-align: right;\n",
       "    }\n",
       "</style>\n",
       "<table border=\"1\" class=\"dataframe\">\n",
       "  <thead>\n",
       "    <tr style=\"text-align: right;\">\n",
       "      <th></th>\n",
       "      <th>index</th>\n",
       "      <th>ID</th>\n",
       "      <th>EC</th>\n",
       "      <th>kcat</th>\n",
       "      <th>ORGANISM</th>\n",
       "      <th>PMID</th>\n",
       "      <th>kcat_new</th>\n",
       "      <th>correct reaction ID</th>\n",
       "      <th>comment</th>\n",
       "      <th>new</th>\n",
       "      <th>enzyme</th>\n",
       "      <th>correct kcat</th>\n",
       "      <th>UNIPROT_list</th>\n",
       "      <th>LITERATURE</th>\n",
       "      <th>checked</th>\n",
       "      <th>Sequence</th>\n",
       "      <th>ESM1b</th>\n",
       "      <th>structural fp</th>\n",
       "      <th>difference fp</th>\n",
       "      <th>small_difference fp</th>\n",
       "    </tr>\n",
       "  </thead>\n",
       "  <tbody>\n",
       "    <tr>\n",
       "      <th>0</th>\n",
       "      <td>0.0</td>\n",
       "      <td>1152.0</td>\n",
       "      <td>1.1.1.49</td>\n",
       "      <td>1120</td>\n",
       "      <td>Pseudomonas fluorescens</td>\n",
       "      <td>1257.0</td>\n",
       "      <td>-</td>\n",
       "      <td>1878</td>\n",
       "      <td>NaN</td>\n",
       "      <td>False</td>\n",
       "      <td>NaN</td>\n",
       "      <td>1120</td>\n",
       "      <td>[]</td>\n",
       "      <td>286985</td>\n",
       "      <td>True</td>\n",
       "      <td>MTANGKKLKAEPAPPTTLFLFGAHGDLVKRLLMPALYNLSRDGLLG...</td>\n",
       "      <td>[-0.02510768, 0.17937289, -0.022310873, 0.1016...</td>\n",
       "      <td>1100111100000001001000110110010001000101111100...</td>\n",
       "      <td>[0.0, 0.0, 0.0, 0.0, 0.0, 0.0, 0.0, 0.0, 0.0, ...</td>\n",
       "      <td>[0.0, -1.0, 0.0, 0.0, 0.0, 0.0, 0.0, 0.0, 0.0,...</td>\n",
       "    </tr>\n",
       "  </tbody>\n",
       "</table>\n",
       "</div>"
      ],
      "text/plain": [
       "   index      ID        EC  kcat                 ORGANISM    PMID kcat_new  \\\n",
       "0    0.0  1152.0  1.1.1.49  1120  Pseudomonas fluorescens  1257.0        -   \n",
       "\n",
       "  correct reaction ID comment    new enzyme correct kcat UNIPROT_list  \\\n",
       "0                1878     NaN  False    NaN         1120           []   \n",
       "\n",
       "  LITERATURE  checked                                           Sequence  \\\n",
       "0     286985     True  MTANGKKLKAEPAPPTTLFLFGAHGDLVKRLLMPALYNLSRDGLLG...   \n",
       "\n",
       "                                               ESM1b  \\\n",
       "0  [-0.02510768, 0.17937289, -0.022310873, 0.1016...   \n",
       "\n",
       "                                       structural fp  \\\n",
       "0  1100111100000001001000110110010001000101111100...   \n",
       "\n",
       "                                       difference fp  \\\n",
       "0  [0.0, 0.0, 0.0, 0.0, 0.0, 0.0, 0.0, 0.0, 0.0, ...   \n",
       "\n",
       "                                 small_difference fp  \n",
       "0  [0.0, -1.0, 0.0, 0.0, 0.0, 0.0, 0.0, 0.0, 0.0,...  "
      ]
     },
     "execution_count": 15,
     "metadata": {},
     "output_type": "execute_result"
    }
   ],
   "source": [
    "datasets_dir = \"C:\\\\Users\\\\alexk\\\\projects\\\\kcat_prediction_V3\\\\data\\\\\"\n",
    "df = pd.read_pickle(join(datasets_dir,\"brenda_data\" , \"brenda_df_kcat_curated_brenda.pkl\"))\n",
    "df.loc[df[\"correct reaction ID\"] == 1878]"
   ]
  },
  {
   "cell_type": "code",
   "execution_count": 25,
   "metadata": {},
   "outputs": [
    {
     "data": {
      "text/plain": [
       "['D-glucose 6-phosphate', 'H2O', 'NADP+']"
      ]
     },
     "execution_count": 25,
     "metadata": {},
     "output_type": "execute_result"
    }
   ],
   "source": [
    "metabolites_KM = pd.read_pickle(join(datasets_dir,\"metabolite_data\", \"metabolites_KM_with_rep_curated.pkl\"))\n",
    "reaction_df = pd.read_pickle(join(datasets_dir, \"reaction_data\", \"reaction_df_brenda_with_fingerprints_V2.pkl\"))\n",
    "mets = list(reaction_df[\"substrates_list\"].loc[reaction_df[\"reaction ID\"] == 1878])[0]\n"
   ]
  },
  {
   "cell_type": "code",
   "execution_count": 28,
   "metadata": {},
   "outputs": [
    {
     "name": "stdout",
     "output_type": "stream",
     "text": [
      "Step 1/3: Calculating numerical representations for all metabolites.\n",
      ".....1(a) Calculating input matrices for Graph Neural Network\n",
      ".....1(b) Calculating numerical metabolite representations using a Graph Neural Network\n"
     ]
    },
    {
     "data": {
      "text/html": [
       "<div>\n",
       "<style scoped>\n",
       "    .dataframe tbody tr th:only-of-type {\n",
       "        vertical-align: middle;\n",
       "    }\n",
       "\n",
       "    .dataframe tbody tr th {\n",
       "        vertical-align: top;\n",
       "    }\n",
       "\n",
       "    .dataframe thead th {\n",
       "        text-align: right;\n",
       "    }\n",
       "</style>\n",
       "<table border=\"1\" class=\"dataframe\">\n",
       "  <thead>\n",
       "    <tr style=\"text-align: right;\">\n",
       "      <th></th>\n",
       "      <th>metabolite</th>\n",
       "      <th>type</th>\n",
       "      <th>ID</th>\n",
       "      <th>successfull</th>\n",
       "      <th>number_atoms</th>\n",
       "      <th>LogP</th>\n",
       "      <th>MW</th>\n",
       "      <th>GNN rep</th>\n",
       "    </tr>\n",
       "  </thead>\n",
       "  <tbody>\n",
       "    <tr>\n",
       "      <th>0</th>\n",
       "      <td>C00092</td>\n",
       "      <td>KEGG</td>\n",
       "      <td>metabolite_0</td>\n",
       "      <td>True</td>\n",
       "      <td>16</td>\n",
       "      <td>-3.1044</td>\n",
       "      <td>260.029719</td>\n",
       "      <td>[0.97593224, 55.021576, 0.8896525, 21.778828, ...</td>\n",
       "    </tr>\n",
       "    <tr>\n",
       "      <th>1</th>\n",
       "      <td>C00006</td>\n",
       "      <td>KEGG</td>\n",
       "      <td>metabolite_1</td>\n",
       "      <td>True</td>\n",
       "      <td>48</td>\n",
       "      <td>-2.8989</td>\n",
       "      <td>744.082729</td>\n",
       "      <td>[21.70252, 177.21861, 10.161061, 106.159904, 0...</td>\n",
       "    </tr>\n",
       "    <tr>\n",
       "      <th>2</th>\n",
       "      <td>C00001</td>\n",
       "      <td>KEGG</td>\n",
       "      <td>metabolite_2</td>\n",
       "      <td>True</td>\n",
       "      <td>1</td>\n",
       "      <td>-0.8247</td>\n",
       "      <td>18.010565</td>\n",
       "      <td>[0.017944477, 0.0, 0.0, 0.0, 0.0, 0.12670061, ...</td>\n",
       "    </tr>\n",
       "  </tbody>\n",
       "</table>\n",
       "</div>"
      ],
      "text/plain": [
       "  metabolite  type            ID  successfull  number_atoms    LogP  \\\n",
       "0     C00092  KEGG  metabolite_0         True            16 -3.1044   \n",
       "1     C00006  KEGG  metabolite_1         True            48 -2.8989   \n",
       "2     C00001  KEGG  metabolite_2         True             1 -0.8247   \n",
       "\n",
       "           MW                                            GNN rep  \n",
       "0  260.029719  [0.97593224, 55.021576, 0.8896525, 21.778828, ...  \n",
       "1  744.082729  [21.70252, 177.21861, 10.161061, 106.159904, 0...  \n",
       "2   18.010565  [0.017944477, 0.0, 0.0, 0.0, 0.0, 0.12670061, ...  "
      ]
     },
     "metadata": {},
     "output_type": "display_data"
    },
    {
     "name": "stdout",
     "output_type": "stream",
     "text": [
      "Step 2/3: Calculating numerical representations for all enzymes.\n",
      ".....2(a) Loading ESM-1b model.\n",
      ".....2(b) Calculating enzyme representations.\n"
     ]
    },
    {
     "data": {
      "text/html": [
       "<div>\n",
       "<style scoped>\n",
       "    .dataframe tbody tr th:only-of-type {\n",
       "        vertical-align: middle;\n",
       "    }\n",
       "\n",
       "    .dataframe tbody tr th {\n",
       "        vertical-align: top;\n",
       "    }\n",
       "\n",
       "    .dataframe thead th {\n",
       "        text-align: right;\n",
       "    }\n",
       "</style>\n",
       "<table border=\"1\" class=\"dataframe\">\n",
       "  <thead>\n",
       "    <tr style=\"text-align: right;\">\n",
       "      <th></th>\n",
       "      <th>amino acid sequence</th>\n",
       "      <th>ID</th>\n",
       "      <th>model_input</th>\n",
       "      <th>enzyme rep</th>\n",
       "    </tr>\n",
       "  </thead>\n",
       "  <tbody>\n",
       "    <tr>\n",
       "      <th>0</th>\n",
       "      <td>MTANGKKLKAEPAPPTTLFLFGAHGDLVKRLLMPALYNLSRDGLLG...</td>\n",
       "      <td>protein_0</td>\n",
       "      <td>MTANGKKLKAEPAPPTTLFLFGAHGDLVKRLLMPALYNLSRDGLLG...</td>\n",
       "      <td>[-0.025107687, 0.1793729, -0.022310918, 0.1016...</td>\n",
       "    </tr>\n",
       "  </tbody>\n",
       "</table>\n",
       "</div>"
      ],
      "text/plain": [
       "                                 amino acid sequence         ID  \\\n",
       "0  MTANGKKLKAEPAPPTTLFLFGAHGDLVKRLLMPALYNLSRDGLLG...  protein_0   \n",
       "\n",
       "                                         model_input  \\\n",
       "0  MTANGKKLKAEPAPPTTLFLFGAHGDLVKRLLMPALYNLSRDGLLG...   \n",
       "\n",
       "                                          enzyme rep  \n",
       "0  [-0.025107687, 0.1793729, -0.022310918, 0.1016...  "
      ]
     },
     "metadata": {},
     "output_type": "display_data"
    },
    {
     "name": "stdout",
     "output_type": "stream",
     "text": [
      "Step 3/3: Making predictions for KM.\n"
     ]
    },
    {
     "data": {
      "text/html": [
       "<div>\n",
       "<style scoped>\n",
       "    .dataframe tbody tr th:only-of-type {\n",
       "        vertical-align: middle;\n",
       "    }\n",
       "\n",
       "    .dataframe tbody tr th {\n",
       "        vertical-align: top;\n",
       "    }\n",
       "\n",
       "    .dataframe thead th {\n",
       "        text-align: right;\n",
       "    }\n",
       "</style>\n",
       "<table border=\"1\" class=\"dataframe\">\n",
       "  <thead>\n",
       "    <tr style=\"text-align: right;\">\n",
       "      <th></th>\n",
       "      <th>substrate</th>\n",
       "      <th>enzyme</th>\n",
       "      <th>index</th>\n",
       "      <th>GNN rep</th>\n",
       "      <th>enzyme rep</th>\n",
       "      <th>complete</th>\n",
       "    </tr>\n",
       "  </thead>\n",
       "  <tbody>\n",
       "    <tr>\n",
       "      <th>0</th>\n",
       "      <td>C00006</td>\n",
       "      <td>MTANGKKLKAEPAPPTTLFLFGAHGDLVKRLLMPALYNLSRDGLLG...</td>\n",
       "      <td>0</td>\n",
       "      <td>[21.70252, 177.21861, 10.161061, 106.159904, 0...</td>\n",
       "      <td>[-0.025107687, 0.1793729, -0.022310918, 0.1016...</td>\n",
       "      <td>True</td>\n",
       "    </tr>\n",
       "    <tr>\n",
       "      <th>1</th>\n",
       "      <td>C00001</td>\n",
       "      <td>MTANGKKLKAEPAPPTTLFLFGAHGDLVKRLLMPALYNLSRDGLLG...</td>\n",
       "      <td>1</td>\n",
       "      <td>[0.017944477, 0.0, 0.0, 0.0, 0.0, 0.12670061, ...</td>\n",
       "      <td>[-0.025107687, 0.1793729, -0.022310918, 0.1016...</td>\n",
       "      <td>True</td>\n",
       "    </tr>\n",
       "    <tr>\n",
       "      <th>2</th>\n",
       "      <td>C00092</td>\n",
       "      <td>MTANGKKLKAEPAPPTTLFLFGAHGDLVKRLLMPALYNLSRDGLLG...</td>\n",
       "      <td>2</td>\n",
       "      <td>[0.97593224, 55.021576, 0.8896525, 21.778828, ...</td>\n",
       "      <td>[-0.025107687, 0.1793729, -0.022310918, 0.1016...</td>\n",
       "      <td>True</td>\n",
       "    </tr>\n",
       "  </tbody>\n",
       "</table>\n",
       "</div>"
      ],
      "text/plain": [
       "  substrate                                             enzyme  index  \\\n",
       "0    C00006  MTANGKKLKAEPAPPTTLFLFGAHGDLVKRLLMPALYNLSRDGLLG...      0   \n",
       "1    C00001  MTANGKKLKAEPAPPTTLFLFGAHGDLVKRLLMPALYNLSRDGLLG...      1   \n",
       "2    C00092  MTANGKKLKAEPAPPTTLFLFGAHGDLVKRLLMPALYNLSRDGLLG...      2   \n",
       "\n",
       "                                             GNN rep  \\\n",
       "0  [21.70252, 177.21861, 10.161061, 106.159904, 0...   \n",
       "1  [0.017944477, 0.0, 0.0, 0.0, 0.0, 0.12670061, ...   \n",
       "2  [0.97593224, 55.021576, 0.8896525, 21.778828, ...   \n",
       "\n",
       "                                          enzyme rep  complete  \n",
       "0  [-0.025107687, 0.1793729, -0.022310918, 0.1016...      True  \n",
       "1  [-0.025107687, 0.1793729, -0.022310918, 0.1016...      True  \n",
       "2  [-0.025107687, 0.1793729, -0.022310918, 0.1016...      True  "
      ]
     },
     "metadata": {},
     "output_type": "display_data"
    },
    {
     "data": {
      "text/html": [
       "<div>\n",
       "<style scoped>\n",
       "    .dataframe tbody tr th:only-of-type {\n",
       "        vertical-align: middle;\n",
       "    }\n",
       "\n",
       "    .dataframe tbody tr th {\n",
       "        vertical-align: top;\n",
       "    }\n",
       "\n",
       "    .dataframe thead th {\n",
       "        text-align: right;\n",
       "    }\n",
       "</style>\n",
       "<table border=\"1\" class=\"dataframe\">\n",
       "  <thead>\n",
       "    <tr style=\"text-align: right;\">\n",
       "      <th></th>\n",
       "      <th>substrate</th>\n",
       "      <th>enzyme</th>\n",
       "      <th>GNN rep</th>\n",
       "      <th>enzyme rep</th>\n",
       "      <th>complete</th>\n",
       "      <th>KM [mM]</th>\n",
       "    </tr>\n",
       "  </thead>\n",
       "  <tbody>\n",
       "    <tr>\n",
       "      <th>0</th>\n",
       "      <td>C00006</td>\n",
       "      <td>MTANGKKLKAEPAPPTTLFLFGAHGDLVKRLLMPALYNLSRDGLLG...</td>\n",
       "      <td>[21.70252, 177.21861, 10.161061, 106.159904, 0...</td>\n",
       "      <td>[-0.025107687, 0.1793729, -0.022310918, 0.1016...</td>\n",
       "      <td>True</td>\n",
       "      <td>0.022732</td>\n",
       "    </tr>\n",
       "    <tr>\n",
       "      <th>1</th>\n",
       "      <td>C00001</td>\n",
       "      <td>MTANGKKLKAEPAPPTTLFLFGAHGDLVKRLLMPALYNLSRDGLLG...</td>\n",
       "      <td>[0.017944477, 0.0, 0.0, 0.0, 0.0, 0.12670061, ...</td>\n",
       "      <td>[-0.025107687, 0.1793729, -0.022310918, 0.1016...</td>\n",
       "      <td>True</td>\n",
       "      <td>1.929706</td>\n",
       "    </tr>\n",
       "    <tr>\n",
       "      <th>2</th>\n",
       "      <td>C00092</td>\n",
       "      <td>MTANGKKLKAEPAPPTTLFLFGAHGDLVKRLLMPALYNLSRDGLLG...</td>\n",
       "      <td>[0.97593224, 55.021576, 0.8896525, 21.778828, ...</td>\n",
       "      <td>[-0.025107687, 0.1793729, -0.022310918, 0.1016...</td>\n",
       "      <td>True</td>\n",
       "      <td>0.292499</td>\n",
       "    </tr>\n",
       "  </tbody>\n",
       "</table>\n",
       "</div>"
      ],
      "text/plain": [
       "  substrate                                             enzyme  \\\n",
       "0    C00006  MTANGKKLKAEPAPPTTLFLFGAHGDLVKRLLMPALYNLSRDGLLG...   \n",
       "1    C00001  MTANGKKLKAEPAPPTTLFLFGAHGDLVKRLLMPALYNLSRDGLLG...   \n",
       "2    C00092  MTANGKKLKAEPAPPTTLFLFGAHGDLVKRLLMPALYNLSRDGLLG...   \n",
       "\n",
       "                                             GNN rep  \\\n",
       "0  [21.70252, 177.21861, 10.161061, 106.159904, 0...   \n",
       "1  [0.017944477, 0.0, 0.0, 0.0, 0.0, 0.12670061, ...   \n",
       "2  [0.97593224, 55.021576, 0.8896525, 21.778828, ...   \n",
       "\n",
       "                                          enzyme rep  complete   KM [mM]  \n",
       "0  [-0.025107687, 0.1793729, -0.022310918, 0.1016...      True  0.022732  \n",
       "1  [-0.025107687, 0.1793729, -0.022310918, 0.1016...      True  1.929706  \n",
       "2  [-0.025107687, 0.1793729, -0.022310918, 0.1016...      True  0.292499  "
      ]
     },
     "metadata": {},
     "output_type": "display_data"
    },
    {
     "data": {
      "text/html": [
       "<div>\n",
       "<style scoped>\n",
       "    .dataframe tbody tr th:only-of-type {\n",
       "        vertical-align: middle;\n",
       "    }\n",
       "\n",
       "    .dataframe tbody tr th {\n",
       "        vertical-align: top;\n",
       "    }\n",
       "\n",
       "    .dataframe thead th {\n",
       "        text-align: right;\n",
       "    }\n",
       "</style>\n",
       "<table border=\"1\" class=\"dataframe\">\n",
       "  <thead>\n",
       "    <tr style=\"text-align: right;\">\n",
       "      <th></th>\n",
       "      <th>substrate</th>\n",
       "      <th>enzyme</th>\n",
       "      <th>GNN rep</th>\n",
       "      <th>enzyme rep</th>\n",
       "      <th>complete</th>\n",
       "      <th>KM [mM]</th>\n",
       "    </tr>\n",
       "  </thead>\n",
       "  <tbody>\n",
       "    <tr>\n",
       "      <th>0</th>\n",
       "      <td>C00006</td>\n",
       "      <td>MTANGKKLKAEPAPPTTLFLFGAHGDLVKRLLMPALYNLSRDGLLG...</td>\n",
       "      <td>[21.70252, 177.21861, 10.161061, 106.159904, 0...</td>\n",
       "      <td>[-0.025107687, 0.1793729, -0.022310918, 0.1016...</td>\n",
       "      <td>True</td>\n",
       "      <td>0.022732</td>\n",
       "    </tr>\n",
       "    <tr>\n",
       "      <th>1</th>\n",
       "      <td>C00001</td>\n",
       "      <td>MTANGKKLKAEPAPPTTLFLFGAHGDLVKRLLMPALYNLSRDGLLG...</td>\n",
       "      <td>[0.017944477, 0.0, 0.0, 0.0, 0.0, 0.12670061, ...</td>\n",
       "      <td>[-0.025107687, 0.1793729, -0.022310918, 0.1016...</td>\n",
       "      <td>True</td>\n",
       "      <td>1.929706</td>\n",
       "    </tr>\n",
       "    <tr>\n",
       "      <th>2</th>\n",
       "      <td>C00092</td>\n",
       "      <td>MTANGKKLKAEPAPPTTLFLFGAHGDLVKRLLMPALYNLSRDGLLG...</td>\n",
       "      <td>[0.97593224, 55.021576, 0.8896525, 21.778828, ...</td>\n",
       "      <td>[-0.025107687, 0.1793729, -0.022310918, 0.1016...</td>\n",
       "      <td>True</td>\n",
       "      <td>0.292499</td>\n",
       "    </tr>\n",
       "  </tbody>\n",
       "</table>\n",
       "</div>"
      ],
      "text/plain": [
       "  substrate                                             enzyme  \\\n",
       "0    C00006  MTANGKKLKAEPAPPTTLFLFGAHGDLVKRLLMPALYNLSRDGLLG...   \n",
       "1    C00001  MTANGKKLKAEPAPPTTLFLFGAHGDLVKRLLMPALYNLSRDGLLG...   \n",
       "2    C00092  MTANGKKLKAEPAPPTTLFLFGAHGDLVKRLLMPALYNLSRDGLLG...   \n",
       "\n",
       "                                             GNN rep  \\\n",
       "0  [21.70252, 177.21861, 10.161061, 106.159904, 0...   \n",
       "1  [0.017944477, 0.0, 0.0, 0.0, 0.0, 0.12670061, ...   \n",
       "2  [0.97593224, 55.021576, 0.8896525, 21.778828, ...   \n",
       "\n",
       "                                          enzyme rep  complete   KM [mM]  \n",
       "0  [-0.025107687, 0.1793729, -0.022310918, 0.1016...      True  0.022732  \n",
       "1  [-0.025107687, 0.1793729, -0.022310918, 0.1016...      True  1.929706  \n",
       "2  [-0.025107687, 0.1793729, -0.022310918, 0.1016...      True  0.292499  "
      ]
     },
     "execution_count": 28,
     "metadata": {},
     "output_type": "execute_result"
    }
   ],
   "source": [
    "KM_predicton(substrate_list = [\"C00006\", \"C00001\", \"C00092\"], \n",
    "             enzyme_list = [df[\"Sequence\"][0], df[\"Sequence\"][0], df[\"Sequence\"][0]])"
   ]
  },
  {
   "cell_type": "code",
   "execution_count": 27,
   "metadata": {},
   "outputs": [
    {
     "data": {
      "text/html": [
       "<div>\n",
       "<style scoped>\n",
       "    .dataframe tbody tr th:only-of-type {\n",
       "        vertical-align: middle;\n",
       "    }\n",
       "\n",
       "    .dataframe tbody tr th {\n",
       "        vertical-align: top;\n",
       "    }\n",
       "\n",
       "    .dataframe thead th {\n",
       "        text-align: right;\n",
       "    }\n",
       "</style>\n",
       "<table border=\"1\" class=\"dataframe\">\n",
       "  <thead>\n",
       "    <tr style=\"text-align: right;\">\n",
       "      <th></th>\n",
       "      <th>metabolite</th>\n",
       "      <th>InchiKey</th>\n",
       "      <th>InChI Code</th>\n",
       "      <th>KEGG ID</th>\n",
       "      <th>molecule ID</th>\n",
       "      <th>successfull</th>\n",
       "      <th>MW</th>\n",
       "      <th>LogP</th>\n",
       "      <th>GNN FP</th>\n",
       "    </tr>\n",
       "  </thead>\n",
       "  <tbody>\n",
       "    <tr>\n",
       "      <th>921</th>\n",
       "      <td>NADP+</td>\n",
       "      <td></td>\n",
       "      <td>NaN</td>\n",
       "      <td>C00006</td>\n",
       "      <td>mol_921</td>\n",
       "      <td>True</td>\n",
       "      <td>744.082729</td>\n",
       "      <td>-2.89890</td>\n",
       "      <td>[21.702517, 177.21863, 10.161067, 106.15991, 0...</td>\n",
       "    </tr>\n",
       "    <tr>\n",
       "      <th>2210</th>\n",
       "      <td>H2O</td>\n",
       "      <td></td>\n",
       "      <td>NaN</td>\n",
       "      <td>C00001</td>\n",
       "      <td>mol_2210</td>\n",
       "      <td>True</td>\n",
       "      <td>18.010565</td>\n",
       "      <td>-0.82470</td>\n",
       "      <td>[0.017944477, 0.0, 0.0, 0.0, 0.0, 0.12670058, ...</td>\n",
       "    </tr>\n",
       "    <tr>\n",
       "      <th>4754</th>\n",
       "      <td>D-glucose 6-phosphate</td>\n",
       "      <td>NBSCHQHZLSJFNQ-GASJEMHNSA-N</td>\n",
       "      <td>InChI=1S/C6H13O9P/c7-3-2(1-14-16(11,12)13)15-6...</td>\n",
       "      <td>C00092</td>\n",
       "      <td>mol_4754</td>\n",
       "      <td>True</td>\n",
       "      <td>260.029719</td>\n",
       "      <td>-3.10440</td>\n",
       "      <td>[0.9759329, 55.02157, 0.88965225, 21.778831, 0...</td>\n",
       "    </tr>\n",
       "    <tr>\n",
       "      <th>6951</th>\n",
       "      <td>NADP+</td>\n",
       "      <td>NaN</td>\n",
       "      <td>InChI=1S/C21H28N7O17P3/c22-17-12-19(25-7-24-17...</td>\n",
       "      <td>NaN</td>\n",
       "      <td>mol_6951</td>\n",
       "      <td>True</td>\n",
       "      <td>744.082729</td>\n",
       "      <td>-2.11443</td>\n",
       "      <td>[22.149586, 185.1, 12.043566, 116.02242, 0.049...</td>\n",
       "    </tr>\n",
       "    <tr>\n",
       "      <th>6996</th>\n",
       "      <td>H2O</td>\n",
       "      <td>NaN</td>\n",
       "      <td>InChI=1S/H2O/h1H2</td>\n",
       "      <td>NaN</td>\n",
       "      <td>mol_6996</td>\n",
       "      <td>True</td>\n",
       "      <td>18.010565</td>\n",
       "      <td>-0.82470</td>\n",
       "      <td>[0.017944477, 0.0, 0.0, 0.0, 0.0, 0.12670058, ...</td>\n",
       "    </tr>\n",
       "  </tbody>\n",
       "</table>\n",
       "</div>"
      ],
      "text/plain": [
       "                 metabolite                     InchiKey  \\\n",
       "921                   NADP+                                \n",
       "2210                    H2O                                \n",
       "4754  D-glucose 6-phosphate  NBSCHQHZLSJFNQ-GASJEMHNSA-N   \n",
       "6951                  NADP+                          NaN   \n",
       "6996                    H2O                          NaN   \n",
       "\n",
       "                                             InChI Code KEGG ID molecule ID  \\\n",
       "921                                                 NaN  C00006     mol_921   \n",
       "2210                                                NaN  C00001    mol_2210   \n",
       "4754  InChI=1S/C6H13O9P/c7-3-2(1-14-16(11,12)13)15-6...  C00092    mol_4754   \n",
       "6951  InChI=1S/C21H28N7O17P3/c22-17-12-19(25-7-24-17...     NaN    mol_6951   \n",
       "6996                                  InChI=1S/H2O/h1H2     NaN    mol_6996   \n",
       "\n",
       "      successfull          MW     LogP  \\\n",
       "921          True  744.082729 -2.89890   \n",
       "2210         True   18.010565 -0.82470   \n",
       "4754         True  260.029719 -3.10440   \n",
       "6951         True  744.082729 -2.11443   \n",
       "6996         True   18.010565 -0.82470   \n",
       "\n",
       "                                                 GNN FP  \n",
       "921   [21.702517, 177.21863, 10.161067, 106.15991, 0...  \n",
       "2210  [0.017944477, 0.0, 0.0, 0.0, 0.0, 0.12670058, ...  \n",
       "4754  [0.9759329, 55.02157, 0.88965225, 21.778831, 0...  \n",
       "6951  [22.149586, 185.1, 12.043566, 116.02242, 0.049...  \n",
       "6996  [0.017944477, 0.0, 0.0, 0.0, 0.0, 0.12670058, ...  "
      ]
     },
     "execution_count": 27,
     "metadata": {},
     "output_type": "execute_result"
    }
   ],
   "source": [
    "metabolites_KM.loc[metabolites_KM[\"metabolite\"].isin(mets)]"
   ]
  }
 ],
 "metadata": {
  "kernelspec": {
   "display_name": "Python 3",
   "language": "python",
   "name": "python3"
  },
  "language_info": {
   "codemirror_mode": {
    "name": "ipython",
    "version": 3
   },
   "file_extension": ".py",
   "mimetype": "text/x-python",
   "name": "python",
   "nbconvert_exporter": "python",
   "pygments_lexer": "ipython3",
   "version": "3.7.0"
  }
 },
 "nbformat": 4,
 "nbformat_minor": 4
}
